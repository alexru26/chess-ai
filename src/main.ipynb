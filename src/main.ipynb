{
 "cells": [
  {
   "metadata": {},
   "cell_type": "markdown",
   "source": [
    "# 1 Preliminaries\n",
    "## 1.1 Import\n",
    "Import required libraries."
   ],
   "id": "352ab3891add059b"
  },
  {
   "metadata": {
    "ExecuteTime": {
     "end_time": "2024-09-16T16:42:55.572850Z",
     "start_time": "2024-09-16T16:42:55.564148Z"
    }
   },
   "cell_type": "code",
   "source": [
    "import csv\n",
    "import pandas as pd\n",
    "import numpy as np\n",
    "from keras import callbacks, Model, layers, models, optimizers, losses\n",
    "import chess"
   ],
   "id": "8958b478d1ef1848",
   "outputs": [],
   "execution_count": 10
  },
  {
   "metadata": {},
   "cell_type": "markdown",
   "source": [
    "## 1.2 Load Data\n",
    "Load the pgn file and create DataFrame. It should have three columns:\n",
    "- Color\n",
    "- Board\n",
    "- Move"
   ],
   "id": "ab9c3b1330f8796"
  },
  {
   "metadata": {
    "ExecuteTime": {
     "end_time": "2024-09-16T16:43:08.754518Z",
     "start_time": "2024-09-16T16:42:55.582221Z"
    }
   },
   "cell_type": "code",
   "source": [
    "row_val = {\n",
    "    'a': 0,\n",
    "    'b': 1,\n",
    "    'c': 2,\n",
    "    'd': 3,\n",
    "    'e': 4,\n",
    "    'f': 5,\n",
    "    'g': 6,\n",
    "    'h': 7,\n",
    "}\n",
    "\n",
    "def space_to_int(space):\n",
    "    letter = chess.square_name(space) # returns letter of space (ex. a3)\n",
    "    return 8-int(letter[1]), row_val[letter[0]] # returns row, column\n",
    "\n",
    "def split_boards(board):\n",
    "    \"\"\"\n",
    "    Splits board into 14 different boards\n",
    "    :param board: current board\n",
    "    :return: length 14 array of boards based on piece location and attack\n",
    "    0-5 are white pieces (pawn, knight, bishop, rook, queen, king)\n",
    "    6-11 is black pieces (pawn, knight, bishop, rook, queen, king)\n",
    "    12 is white legal moves\n",
    "    13 is black legal moves\n",
    "    \"\"\"\n",
    "    res = np.zeros((14, 8, 8), dtype=np.int8) # creates array of length 14 where each element is a board\n",
    "    \n",
    "    for piece in chess.PIECE_TYPES:\n",
    "        for square in board.pieces(piece, chess.WHITE):\n",
    "            # gets the location of where the square is and stores it into res\n",
    "            index = np.unravel_index(square, (8,8)) # see https://stackoverflow.com/questions/48135736/what-is-an-intuitive-explanation-of-np-unravel-index\n",
    "            res[piece-1][7-index[0]][index[1]] = 1 # 7-index[0] is row, index[1] is column\n",
    "        for square in board.pieces(piece, chess.BLACK):\n",
    "            # same idea but black pieces this time\n",
    "            index = np.unravel_index(square, (8,8))\n",
    "            res[piece+5][7-index[0]][index[1]] = 1 # +5 because of res indexing\n",
    "        \n",
    "    turn = board.turn # store current turn to use later\n",
    "    \n",
    "    # get legal moves for white\n",
    "    board.turn = chess.WHITE\n",
    "    for move in board.legal_moves:\n",
    "        r, c = space_to_int(move.to_square)\n",
    "        res[12][r][c] = 1\n",
    "        \n",
    "    # get legal moves for black\n",
    "    board.turn = chess.BLACK\n",
    "    for move in board.legal_moves:\n",
    "        r, c = space_to_int(move.to_square)\n",
    "        res[13][r][c] = 1\n",
    "        \n",
    "    board.turn = turn # restore original turn\n",
    "    \n",
    "    return res\n",
    "\n",
    "X_train = []\n",
    "y_train = []                \n",
    "with open('../data/data2.csv', mode ='r') as file:\n",
    "    csvFile = csv.reader(file)\n",
    "    next(csvFile) # skip headers\n",
    "    for line in csvFile:\n",
    "        board = chess.Board(line[0])\n",
    "        X_train.append(split_boards(board))\n",
    "        try:\n",
    "            eval = int(line[1])\n",
    "        except ValueError:\n",
    "            eval = 10000*int(line[1][2]) if line[1][1] == '+' else -10000*int(line[1][2])\n",
    "        y_train.append(eval/10)\n",
    "\n",
    "X_train = np.asarray(X_train)\n",
    "y_train = np.asarray(y_train)\n",
    "\n",
    "print(X_train.shape)\n",
    "print(y_train.shape)"
   ],
   "id": "eae9a361a014173d",
   "outputs": [
    {
     "name": "stdout",
     "output_type": "stream",
     "text": [
      "(100000, 14, 8, 8)\n",
      "(100000,)\n"
     ]
    }
   ],
   "execution_count": 11
  },
  {
   "metadata": {},
   "cell_type": "markdown",
   "source": [
    "# 2 Train Model\n",
    "## 2.1 Create Model"
   ],
   "id": "eb4c30a510d2ae9e"
  },
  {
   "metadata": {
    "ExecuteTime": {
     "end_time": "2024-09-16T16:43:08.828718Z",
     "start_time": "2024-09-16T16:43:08.824722Z"
    }
   },
   "cell_type": "code",
   "source": [
    "def create_model():\n",
    "    depth = 2\n",
    "    \n",
    "    # input layer\n",
    "    input = layers.Input(shape=(14,8,8))\n",
    "    \n",
    "    # layers\n",
    "    x = layers.Conv2D(filters=32, kernel_size=3, padding='same', data_format='channels_last', activation='relu')(input)\n",
    "    for i in range(depth):\n",
    "        previous = x\n",
    "        x = layers.Conv2D(filters=32, kernel_size=3, padding='same', data_format='channels_last', activation='relu')(x)\n",
    "        x = layers.BatchNormalization()(x)\n",
    "        x = layers.Activation('relu')(x)\n",
    "        x = layers.Conv2D(filters=32, kernel_size=3, padding='same', data_format='channels_last', activation='relu')(x)\n",
    "        x = layers.BatchNormalization()(x)\n",
    "        x = layers.Add()([x, previous])\n",
    "        x = layers.Activation('relu')(x)\n",
    "    x = layers.Flatten()(x)\n",
    "    x = layers.Dense(1, activation='linear')(x)\n",
    "    \n",
    "    model = Model(inputs=input, outputs=x)\n",
    "    \n",
    "    optimizer = optimizers.Adam()\n",
    "    loss = losses.MeanSquaredError()\n",
    "    metrics = [losses.MeanAbsoluteError()]\n",
    "    \n",
    "    model.compile(\n",
    "        optimizer=optimizer, \n",
    "        loss=loss, \n",
    "        metrics=metrics\n",
    "    )\n",
    "    \n",
    "    print(model.summary())\n",
    "    \n",
    "    return model"
   ],
   "id": "1f53f5026bc6276a",
   "outputs": [],
   "execution_count": 12
  },
  {
   "metadata": {},
   "cell_type": "markdown",
   "source": "## 2.2 Fit Model",
   "id": "21dfcca3154e4f15"
  },
  {
   "metadata": {
    "jupyter": {
     "is_executing": true
    },
    "ExecuteTime": {
     "start_time": "2024-09-16T16:43:08.844924Z"
    }
   },
   "cell_type": "code",
   "source": [
    "# model = create_model()\n",
    "\n",
    "model = models.load_model('../models/ai.keras')\n",
    "\n",
    "early_stopping = callbacks.EarlyStopping(\n",
    "    monitor='loss',\n",
    "    min_delta=0.0001,  # minimium amount of change to count as an improvement\n",
    "    patience=50,  # how many epochs to wait before stopping\n",
    "    restore_best_weights=True,\n",
    ")\n",
    "\n",
    "history = model.fit(\n",
    "    X_train, y_train,\n",
    "    batch_size=8192,\n",
    "    epochs=1000,\n",
    "    callbacks=[\n",
    "        early_stopping,\n",
    "    ],\n",
    "    shuffle=True,\n",
    "    verbose=1,\n",
    ")\n",
    "\n",
    "history_df = pd.DataFrame(history.history)\n",
    "history_df.loc[:, ['loss']].plot()\n",
    "history_df.loc[:, ['mean_absolute_error']].plot()\n",
    "\n",
    "model.save('../models/ai.keras')"
   ],
   "id": "efbe578dde724685",
   "outputs": [
    {
     "name": "stdout",
     "output_type": "stream",
     "text": [
      "Epoch 1/1000\n",
      "\u001B[1m13/13\u001B[0m \u001B[32m━━━━━━━━━━━━━━━━━━━━\u001B[0m\u001B[37m\u001B[0m \u001B[1m22s\u001B[0m 2s/step - loss: 240782.7500 - mean_absolute_error: 77.2476\n",
      "Epoch 2/1000\n",
      "\u001B[1m13/13\u001B[0m \u001B[32m━━━━━━━━━━━━━━━━━━━━\u001B[0m\u001B[37m\u001B[0m \u001B[1m20s\u001B[0m 2s/step - loss: 227533.7188 - mean_absolute_error: 79.2103\n",
      "Epoch 3/1000\n",
      "\u001B[1m13/13\u001B[0m \u001B[32m━━━━━━━━━━━━━━━━━━━━\u001B[0m\u001B[37m\u001B[0m \u001B[1m21s\u001B[0m 2s/step - loss: 197724.2500 - mean_absolute_error: 80.1395\n",
      "Epoch 4/1000\n",
      "\u001B[1m13/13\u001B[0m \u001B[32m━━━━━━━━━━━━━━━━━━━━\u001B[0m\u001B[37m\u001B[0m \u001B[1m21s\u001B[0m 2s/step - loss: 190551.2500 - mean_absolute_error: 78.8816\n",
      "Epoch 5/1000\n",
      "\u001B[1m 6/13\u001B[0m \u001B[32m━━━━━━━━━\u001B[0m\u001B[37m━━━━━━━━━━━\u001B[0m \u001B[1m12s\u001B[0m 2s/step - loss: 159102.6406 - mean_absolute_error: 73.1592"
     ]
    }
   ],
   "execution_count": null
  }
 ],
 "metadata": {
  "kernelspec": {
   "display_name": "Python 3",
   "language": "python",
   "name": "python3"
  },
  "language_info": {
   "codemirror_mode": {
    "name": "ipython",
    "version": 2
   },
   "file_extension": ".py",
   "mimetype": "text/x-python",
   "name": "python",
   "nbconvert_exporter": "python",
   "pygments_lexer": "ipython2",
   "version": "2.7.6"
  }
 },
 "nbformat": 4,
 "nbformat_minor": 5
}
