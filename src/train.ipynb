{
 "cells": [
  {
   "metadata": {},
   "cell_type": "markdown",
   "source": [
    "# 1 Preliminaries\n",
    "## 1.1 Import"
   ],
   "id": "352ab3891add059b"
  },
  {
   "metadata": {
    "ExecuteTime": {
     "end_time": "2024-09-23T22:33:26.003664Z",
     "start_time": "2024-09-23T22:33:21.983142Z"
    }
   },
   "cell_type": "code",
   "source": [
    "import os\n",
    "import pandas as pd\n",
    "import numpy as np\n",
    "from keras import layers, models, optimizers, utils\n",
    "import json\n",
    "import chess\n",
    "import chess.pgn"
   ],
   "id": "8958b478d1ef1848",
   "outputs": [],
   "execution_count": 1
  },
  {
   "metadata": {},
   "cell_type": "markdown",
   "source": "## 1.2 Load Data",
   "id": "ab9c3b1330f8796"
  },
  {
   "metadata": {
    "ExecuteTime": {
     "end_time": "2024-09-23T22:33:53.939276Z",
     "start_time": "2024-09-23T22:33:26.016598Z"
    }
   },
   "cell_type": "code",
   "source": [
    "def read_data(file):\n",
    "    \"\"\"\n",
    "    Reads file and extracts games\n",
    "    :param file: pgn file\n",
    "    :return: list of games\n",
    "    \"\"\"\n",
    "    res = []\n",
    "    games_limit = 2000\n",
    "    count = 0\n",
    "    while True:\n",
    "        try:\n",
    "            game = chess.pgn.read_game(file)\n",
    "            if game is None or count >= games_limit:\n",
    "                break\n",
    "            res.append(game)\n",
    "            count += 1\n",
    "        except Exception as e:\n",
    "            print(e)\n",
    "    return res\n",
    "\n",
    "directory = '../data/lichess/' # data downloaded from https://database.nikonoel.fr/\n",
    "files = [file for file in os.listdir(directory) if file.endswith('.pgn')]\n",
    "\n",
    "file_limit = 20 # max files processed\n",
    "i = 0 # counter to track files processed\n",
    "\n",
    "games = []\n",
    "for file in files: # loop through each file in data directory\n",
    "    if i >= file_limit: break\n",
    "\n",
    "    with open(directory+file, 'r') as pgn:\n",
    "        print(file)\n",
    "        games += read_data(pgn)\n",
    "        i += 1\n",
    "\n",
    "len(games)"
   ],
   "id": "eae9a361a014173d",
   "outputs": [
    {
     "name": "stdout",
     "output_type": "stream",
     "text": [
      "lichess_elite_2014-07.pgn\n",
      "lichess_elite_2018-07.pgn\n",
      "lichess_elite_2016-02.pgn\n",
      "lichess_elite_2020-03.pgn\n",
      "lichess_elite_2020-02.pgn\n",
      "lichess_elite_2016-03.pgn\n",
      "lichess_elite_2018-06.pgn\n",
      "lichess_elite_2018-12.pgn\n",
      "lichess_elite_2014-12.pgn\n",
      "lichess_elite_2014-06.pgn\n",
      "lichess_elite_2014-10.pgn\n",
      "lichess_elite_2014-04.pgn\n",
      "lichess_elite_2018-04.pgn\n",
      "lichess_elite_2018-10.pgn\n",
      "lichess_elite_2016-01.pgn\n",
      "lichess_elite_2020-01.pgn\n",
      "lichess_elite_2018-11.pgn\n",
      "lichess_elite_2018-05.pgn\n",
      "lichess_elite_2014-05.pgn\n",
      "lichess_elite_2014-11.pgn\n"
     ]
    },
    {
     "data": {
      "text/plain": [
       "27728"
      ]
     },
     "execution_count": 2,
     "metadata": {},
     "output_type": "execute_result"
    }
   ],
   "execution_count": 2
  },
  {
   "metadata": {},
   "cell_type": "markdown",
   "source": "## 1.3 Process Data",
   "id": "d283da0938e33103"
  },
  {
   "metadata": {
    "ExecuteTime": {
     "end_time": "2024-09-23T22:34:44.056835Z",
     "start_time": "2024-09-23T22:33:54.008975Z"
    }
   },
   "cell_type": "code",
   "source": [
    "def space_to_int(space):\n",
    "    \"\"\"\n",
    "    Taken from here: https://www.youtube.com/watch?v=ffzvhe97J4Q&ab_channel=DigitalSecrets\n",
    "    :param space: the chess space\n",
    "    :return: row and column index\n",
    "    \"\"\"\n",
    "    row_val = {'a': 0,'b': 1,'c': 2,'d': 3,'e': 4,'f': 5,'g': 6,'h': 7}\n",
    "    letter = chess.square_name(space) # returns letter of space (ex. a3)\n",
    "    return 8-int(letter[1]), row_val[letter[0]] # returns row, column\n",
    "\n",
    "def split_boards(board):\n",
    "    \"\"\"\n",
    "    Splits board into 12 different boards\n",
    "    Taken from here: https://github.com/Skripkon/chess-engine\n",
    "    :param board: current board\n",
    "    :return: 12 8x8 boards based on piece location and attack\n",
    "    0-5 are white pieces (pawn, knight, bishop, rook, queen, king)\n",
    "    6-11 is black pieces (pawn, knight, bishop, rook, queen, king)\n",
    "    \"\"\"\n",
    "    matrix = np.zeros((8, 8, 12))\n",
    "    piece_map = board.piece_map()\n",
    "    for square, piece in piece_map.items():\n",
    "        row, col = divmod(square, 8)\n",
    "        piece_type = piece.piece_type - 1\n",
    "        piece_color = 0 if piece.color else 6\n",
    "        matrix[row, col, piece_type + piece_color] = 1\n",
    "    return matrix\n",
    "\n",
    "def create_input(all_games):\n",
    "    \"\"\"\n",
    "    Returns converted x and y values for model\n",
    "    Taken from here: https://github.com/Skripkon/chess-engine\n",
    "    :param all_games: \n",
    "    :return: x and y values for model\n",
    "    \"\"\"\n",
    "    X_res = []\n",
    "    y_res = []\n",
    "    for game in all_games:\n",
    "        board = game.board()\n",
    "        for move in game.mainline_moves():\n",
    "            X_res.append(split_boards(board))\n",
    "            y_res.append(move.uci())\n",
    "            board.push(move)\n",
    "    return X_res, y_res\n",
    "\n",
    "def encode_moves(moves):\n",
    "    \"\"\"\n",
    "    Convert list of moves to integers and return dictionary\n",
    "    :param moves: list of all moves counted\n",
    "    :return: list of moves (int) and dictionary\n",
    "    \"\"\"\n",
    "    mti = {move: idx for idx, move in enumerate(set(moves))}\n",
    "    return [mti[move] for move in moves], mti\n",
    "\n",
    "X_train, y_train = create_input(games)\n",
    "\n",
    "y_train, move_to_int = encode_moves(y_train) # convert y values to int\n",
    "y_train = utils.to_categorical(y_train, num_classes=len(move_to_int)) # convert to categorical\n",
    "\n",
    "X_train = np.array(X_train) # to numpy array\n",
    "\n",
    "print(X_train.shape)\n",
    "print(y_train.shape)"
   ],
   "id": "5f3d6d5fab26e0be",
   "outputs": [
    {
     "name": "stdout",
     "output_type": "stream",
     "text": [
      "(2276758, 8, 8, 12)\n",
      "(2276758, 1886)\n"
     ]
    }
   ],
   "execution_count": 3
  },
  {
   "metadata": {},
   "cell_type": "markdown",
   "source": [
    "# 2 Train Model\n",
    "## 2.1 Create Model"
   ],
   "id": "eb4c30a510d2ae9e"
  },
  {
   "metadata": {
    "ExecuteTime": {
     "end_time": "2024-09-23T22:34:44.146265Z",
     "start_time": "2024-09-23T22:34:44.142703Z"
    }
   },
   "cell_type": "code",
   "source": [
    "def create_model():\n",
    "    \"\"\"\n",
    "    Create Sequential model with two Conv2D layers and Dense layers\n",
    "    Taken from here: https://github.com/Skripkon/chess-engine\n",
    "    :return: keras model\n",
    "    \"\"\"\n",
    "    res = models.Sequential([\n",
    "        layers.Input(shape=(8,8,12)),\n",
    "        layers.Conv2D(64, (3,3), activation='relu'),\n",
    "        layers.Conv2D(128, (3,3), activation='relu'),\n",
    "        layers.Flatten(),\n",
    "        layers.Dense(256, activation='relu'),\n",
    "        layers.Dense(len(move_to_int), activation='softmax')\n",
    "    ])\n",
    "    \n",
    "    optimizer = optimizers.Adam() # optimizer\n",
    "    loss = 'categorical_crossentropy' # loss calculation\n",
    "    metrics = ['accuracy'] # accuracy metric\n",
    "    \n",
    "    res.compile(\n",
    "        optimizer=optimizer, \n",
    "        loss=loss, \n",
    "        metrics=metrics\n",
    "    )\n",
    "    \n",
    "    print(res.summary())\n",
    "    \n",
    "    return res"
   ],
   "id": "1f53f5026bc6276a",
   "outputs": [],
   "execution_count": 4
  },
  {
   "metadata": {},
   "cell_type": "markdown",
   "source": "## 2.2 Fit Model",
   "id": "21dfcca3154e4f15"
  },
  {
   "metadata": {
    "ExecuteTime": {
     "end_time": "2024-09-24T04:06:04.496472Z",
     "start_time": "2024-09-23T22:34:44.186788Z"
    }
   },
   "cell_type": "code",
   "source": [
    "model = create_model()\n",
    "\n",
    "# fit and train model\n",
    "history = model.fit(\n",
    "    X_train, y_train,\n",
    "    batch_size=64,\n",
    "    epochs=50,\n",
    "    validation_split=0.1,\n",
    "    verbose=2,\n",
    ")\n",
    "\n",
    "history_df = pd.DataFrame(history.history)\n",
    "history_df.loc[:, ['loss', 'accuracy']].plot() # plot loss and accuracy\n",
    "\n",
    "model.save('../models/ai.keras') # save model"
   ],
   "id": "efbe578dde724685",
   "outputs": [
    {
     "data": {
      "text/plain": [
       "\u001B[1mModel: \"sequential\"\u001B[0m\n"
      ],
      "text/html": [
       "<pre style=\"white-space:pre;overflow-x:auto;line-height:normal;font-family:Menlo,'DejaVu Sans Mono',consolas,'Courier New',monospace\"><span style=\"font-weight: bold\">Model: \"sequential\"</span>\n",
       "</pre>\n"
      ]
     },
     "metadata": {},
     "output_type": "display_data"
    },
    {
     "data": {
      "text/plain": [
       "┏━━━━━━━━━━━━━━━━━━━━━━━━━━━━━━━━━┳━━━━━━━━━━━━━━━━━━━━━━━━┳━━━━━━━━━━━━━━━┓\n",
       "┃\u001B[1m \u001B[0m\u001B[1mLayer (type)                   \u001B[0m\u001B[1m \u001B[0m┃\u001B[1m \u001B[0m\u001B[1mOutput Shape          \u001B[0m\u001B[1m \u001B[0m┃\u001B[1m \u001B[0m\u001B[1m      Param #\u001B[0m\u001B[1m \u001B[0m┃\n",
       "┡━━━━━━━━━━━━━━━━━━━━━━━━━━━━━━━━━╇━━━━━━━━━━━━━━━━━━━━━━━━╇━━━━━━━━━━━━━━━┩\n",
       "│ conv2d (\u001B[38;5;33mConv2D\u001B[0m)                 │ (\u001B[38;5;45mNone\u001B[0m, \u001B[38;5;34m6\u001B[0m, \u001B[38;5;34m6\u001B[0m, \u001B[38;5;34m64\u001B[0m)       │         \u001B[38;5;34m6,976\u001B[0m │\n",
       "├─────────────────────────────────┼────────────────────────┼───────────────┤\n",
       "│ conv2d_1 (\u001B[38;5;33mConv2D\u001B[0m)               │ (\u001B[38;5;45mNone\u001B[0m, \u001B[38;5;34m4\u001B[0m, \u001B[38;5;34m4\u001B[0m, \u001B[38;5;34m128\u001B[0m)      │        \u001B[38;5;34m73,856\u001B[0m │\n",
       "├─────────────────────────────────┼────────────────────────┼───────────────┤\n",
       "│ flatten (\u001B[38;5;33mFlatten\u001B[0m)               │ (\u001B[38;5;45mNone\u001B[0m, \u001B[38;5;34m2048\u001B[0m)           │             \u001B[38;5;34m0\u001B[0m │\n",
       "├─────────────────────────────────┼────────────────────────┼───────────────┤\n",
       "│ dense (\u001B[38;5;33mDense\u001B[0m)                   │ (\u001B[38;5;45mNone\u001B[0m, \u001B[38;5;34m256\u001B[0m)            │       \u001B[38;5;34m524,544\u001B[0m │\n",
       "├─────────────────────────────────┼────────────────────────┼───────────────┤\n",
       "│ dense_1 (\u001B[38;5;33mDense\u001B[0m)                 │ (\u001B[38;5;45mNone\u001B[0m, \u001B[38;5;34m1886\u001B[0m)           │       \u001B[38;5;34m484,702\u001B[0m │\n",
       "└─────────────────────────────────┴────────────────────────┴───────────────┘\n"
      ],
      "text/html": [
       "<pre style=\"white-space:pre;overflow-x:auto;line-height:normal;font-family:Menlo,'DejaVu Sans Mono',consolas,'Courier New',monospace\">┏━━━━━━━━━━━━━━━━━━━━━━━━━━━━━━━━━┳━━━━━━━━━━━━━━━━━━━━━━━━┳━━━━━━━━━━━━━━━┓\n",
       "┃<span style=\"font-weight: bold\"> Layer (type)                    </span>┃<span style=\"font-weight: bold\"> Output Shape           </span>┃<span style=\"font-weight: bold\">       Param # </span>┃\n",
       "┡━━━━━━━━━━━━━━━━━━━━━━━━━━━━━━━━━╇━━━━━━━━━━━━━━━━━━━━━━━━╇━━━━━━━━━━━━━━━┩\n",
       "│ conv2d (<span style=\"color: #0087ff; text-decoration-color: #0087ff\">Conv2D</span>)                 │ (<span style=\"color: #00d7ff; text-decoration-color: #00d7ff\">None</span>, <span style=\"color: #00af00; text-decoration-color: #00af00\">6</span>, <span style=\"color: #00af00; text-decoration-color: #00af00\">6</span>, <span style=\"color: #00af00; text-decoration-color: #00af00\">64</span>)       │         <span style=\"color: #00af00; text-decoration-color: #00af00\">6,976</span> │\n",
       "├─────────────────────────────────┼────────────────────────┼───────────────┤\n",
       "│ conv2d_1 (<span style=\"color: #0087ff; text-decoration-color: #0087ff\">Conv2D</span>)               │ (<span style=\"color: #00d7ff; text-decoration-color: #00d7ff\">None</span>, <span style=\"color: #00af00; text-decoration-color: #00af00\">4</span>, <span style=\"color: #00af00; text-decoration-color: #00af00\">4</span>, <span style=\"color: #00af00; text-decoration-color: #00af00\">128</span>)      │        <span style=\"color: #00af00; text-decoration-color: #00af00\">73,856</span> │\n",
       "├─────────────────────────────────┼────────────────────────┼───────────────┤\n",
       "│ flatten (<span style=\"color: #0087ff; text-decoration-color: #0087ff\">Flatten</span>)               │ (<span style=\"color: #00d7ff; text-decoration-color: #00d7ff\">None</span>, <span style=\"color: #00af00; text-decoration-color: #00af00\">2048</span>)           │             <span style=\"color: #00af00; text-decoration-color: #00af00\">0</span> │\n",
       "├─────────────────────────────────┼────────────────────────┼───────────────┤\n",
       "│ dense (<span style=\"color: #0087ff; text-decoration-color: #0087ff\">Dense</span>)                   │ (<span style=\"color: #00d7ff; text-decoration-color: #00d7ff\">None</span>, <span style=\"color: #00af00; text-decoration-color: #00af00\">256</span>)            │       <span style=\"color: #00af00; text-decoration-color: #00af00\">524,544</span> │\n",
       "├─────────────────────────────────┼────────────────────────┼───────────────┤\n",
       "│ dense_1 (<span style=\"color: #0087ff; text-decoration-color: #0087ff\">Dense</span>)                 │ (<span style=\"color: #00d7ff; text-decoration-color: #00d7ff\">None</span>, <span style=\"color: #00af00; text-decoration-color: #00af00\">1886</span>)           │       <span style=\"color: #00af00; text-decoration-color: #00af00\">484,702</span> │\n",
       "└─────────────────────────────────┴────────────────────────┴───────────────┘\n",
       "</pre>\n"
      ]
     },
     "metadata": {},
     "output_type": "display_data"
    },
    {
     "data": {
      "text/plain": [
       "\u001B[1m Total params: \u001B[0m\u001B[38;5;34m1,090,078\u001B[0m (4.16 MB)\n"
      ],
      "text/html": [
       "<pre style=\"white-space:pre;overflow-x:auto;line-height:normal;font-family:Menlo,'DejaVu Sans Mono',consolas,'Courier New',monospace\"><span style=\"font-weight: bold\"> Total params: </span><span style=\"color: #00af00; text-decoration-color: #00af00\">1,090,078</span> (4.16 MB)\n",
       "</pre>\n"
      ]
     },
     "metadata": {},
     "output_type": "display_data"
    },
    {
     "data": {
      "text/plain": [
       "\u001B[1m Trainable params: \u001B[0m\u001B[38;5;34m1,090,078\u001B[0m (4.16 MB)\n"
      ],
      "text/html": [
       "<pre style=\"white-space:pre;overflow-x:auto;line-height:normal;font-family:Menlo,'DejaVu Sans Mono',consolas,'Courier New',monospace\"><span style=\"font-weight: bold\"> Trainable params: </span><span style=\"color: #00af00; text-decoration-color: #00af00\">1,090,078</span> (4.16 MB)\n",
       "</pre>\n"
      ]
     },
     "metadata": {},
     "output_type": "display_data"
    },
    {
     "data": {
      "text/plain": [
       "\u001B[1m Non-trainable params: \u001B[0m\u001B[38;5;34m0\u001B[0m (0.00 B)\n"
      ],
      "text/html": [
       "<pre style=\"white-space:pre;overflow-x:auto;line-height:normal;font-family:Menlo,'DejaVu Sans Mono',consolas,'Courier New',monospace\"><span style=\"font-weight: bold\"> Non-trainable params: </span><span style=\"color: #00af00; text-decoration-color: #00af00\">0</span> (0.00 B)\n",
       "</pre>\n"
      ]
     },
     "metadata": {},
     "output_type": "display_data"
    },
    {
     "name": "stdout",
     "output_type": "stream",
     "text": [
      "None\n",
      "Epoch 1/50\n",
      "32017/32017 - 331s - 10ms/step - accuracy: 0.1558 - loss: 4.4293 - val_accuracy: 0.1784 - val_loss: 3.9297\n",
      "Epoch 2/50\n",
      "32017/32017 - 341s - 11ms/step - accuracy: 0.1943 - loss: 3.7599 - val_accuracy: 0.1932 - val_loss: 3.7584\n",
      "Epoch 3/50\n",
      "32017/32017 - 336s - 11ms/step - accuracy: 0.2061 - loss: 3.6180 - val_accuracy: 0.1999 - val_loss: 3.6802\n",
      "Epoch 4/50\n",
      "32017/32017 - 343s - 11ms/step - accuracy: 0.2139 - loss: 3.5396 - val_accuracy: 0.2007 - val_loss: 3.6461\n",
      "Epoch 5/50\n",
      "32017/32017 - 338s - 11ms/step - accuracy: 0.2188 - loss: 3.4869 - val_accuracy: 0.2056 - val_loss: 3.6064\n",
      "Epoch 6/50\n",
      "32017/32017 - 383s - 12ms/step - accuracy: 0.2227 - loss: 3.4514 - val_accuracy: 0.2097 - val_loss: 3.5938\n",
      "Epoch 7/50\n",
      "32017/32017 - 415s - 13ms/step - accuracy: 0.2249 - loss: 3.4270 - val_accuracy: 0.2075 - val_loss: 3.5872\n",
      "Epoch 8/50\n",
      "32017/32017 - 416s - 13ms/step - accuracy: 0.2264 - loss: 3.4093 - val_accuracy: 0.2106 - val_loss: 3.5812\n",
      "Epoch 9/50\n",
      "32017/32017 - 410s - 13ms/step - accuracy: 0.2282 - loss: 3.3946 - val_accuracy: 0.2112 - val_loss: 3.5585\n",
      "Epoch 10/50\n",
      "32017/32017 - 404s - 13ms/step - accuracy: 0.2291 - loss: 3.3848 - val_accuracy: 0.2127 - val_loss: 3.5667\n",
      "Epoch 11/50\n",
      "32017/32017 - 422s - 13ms/step - accuracy: 0.2294 - loss: 3.3780 - val_accuracy: 0.2110 - val_loss: 3.5648\n",
      "Epoch 12/50\n",
      "32017/32017 - 412s - 13ms/step - accuracy: 0.2303 - loss: 3.3740 - val_accuracy: 0.2109 - val_loss: 3.5567\n",
      "Epoch 13/50\n",
      "32017/32017 - 415s - 13ms/step - accuracy: 0.2305 - loss: 3.3717 - val_accuracy: 0.2127 - val_loss: 3.5478\n",
      "Epoch 14/50\n",
      "32017/32017 - 413s - 13ms/step - accuracy: 0.2302 - loss: 3.3703 - val_accuracy: 0.2110 - val_loss: 3.5433\n",
      "Epoch 15/50\n",
      "32017/32017 - 410s - 13ms/step - accuracy: 0.2301 - loss: 3.3697 - val_accuracy: 0.2109 - val_loss: 3.5680\n",
      "Epoch 16/50\n",
      "32017/32017 - 410s - 13ms/step - accuracy: 0.2301 - loss: 3.3712 - val_accuracy: 0.2099 - val_loss: 3.5664\n",
      "Epoch 17/50\n",
      "32017/32017 - 410s - 13ms/step - accuracy: 0.2298 - loss: 3.3719 - val_accuracy: 0.2075 - val_loss: 3.5626\n",
      "Epoch 18/50\n",
      "32017/32017 - 411s - 13ms/step - accuracy: 0.2291 - loss: 3.3751 - val_accuracy: 0.2115 - val_loss: 3.5603\n",
      "Epoch 19/50\n",
      "32017/32017 - 431s - 13ms/step - accuracy: 0.2297 - loss: 3.3771 - val_accuracy: 0.2092 - val_loss: 3.5566\n",
      "Epoch 20/50\n",
      "32017/32017 - 416s - 13ms/step - accuracy: 0.2289 - loss: 3.3798 - val_accuracy: 0.2096 - val_loss: 3.5569\n",
      "Epoch 21/50\n",
      "32017/32017 - 413s - 13ms/step - accuracy: 0.2281 - loss: 3.3835 - val_accuracy: 0.2119 - val_loss: 3.5628\n",
      "Epoch 22/50\n",
      "32017/32017 - 410s - 13ms/step - accuracy: 0.2281 - loss: 3.3863 - val_accuracy: 0.2081 - val_loss: 3.5797\n",
      "Epoch 23/50\n",
      "32017/32017 - 408s - 13ms/step - accuracy: 0.2276 - loss: 3.3896 - val_accuracy: 0.2100 - val_loss: 3.5692\n",
      "Epoch 24/50\n",
      "32017/32017 - 412s - 13ms/step - accuracy: 0.2272 - loss: 3.3931 - val_accuracy: 0.2074 - val_loss: 3.5816\n",
      "Epoch 25/50\n",
      "32017/32017 - 411s - 13ms/step - accuracy: 0.2271 - loss: 3.3965 - val_accuracy: 0.2105 - val_loss: 3.5901\n",
      "Epoch 26/50\n",
      "32017/32017 - 394s - 12ms/step - accuracy: 0.2265 - loss: 3.4017 - val_accuracy: 0.2110 - val_loss: 3.5733\n",
      "Epoch 27/50\n",
      "32017/32017 - 387s - 12ms/step - accuracy: 0.2258 - loss: 3.4048 - val_accuracy: 0.2033 - val_loss: 3.6079\n",
      "Epoch 28/50\n",
      "32017/32017 - 388s - 12ms/step - accuracy: 0.2256 - loss: 3.4080 - val_accuracy: 0.2050 - val_loss: 3.6158\n",
      "Epoch 29/50\n",
      "32017/32017 - 390s - 12ms/step - accuracy: 0.2253 - loss: 3.4127 - val_accuracy: 0.2069 - val_loss: 3.5967\n",
      "Epoch 30/50\n",
      "32017/32017 - 387s - 12ms/step - accuracy: 0.2244 - loss: 3.4164 - val_accuracy: 0.2097 - val_loss: 3.6057\n",
      "Epoch 31/50\n",
      "32017/32017 - 387s - 12ms/step - accuracy: 0.2241 - loss: 3.4219 - val_accuracy: 0.2042 - val_loss: 3.5974\n",
      "Epoch 32/50\n",
      "32017/32017 - 383s - 12ms/step - accuracy: 0.2236 - loss: 3.4260 - val_accuracy: 0.1995 - val_loss: 3.6457\n",
      "Epoch 33/50\n",
      "32017/32017 - 384s - 12ms/step - accuracy: 0.2233 - loss: 3.4295 - val_accuracy: 0.2056 - val_loss: 3.6135\n",
      "Epoch 34/50\n",
      "32017/32017 - 384s - 12ms/step - accuracy: 0.2225 - loss: 3.4350 - val_accuracy: 0.2067 - val_loss: 3.6232\n",
      "Epoch 35/50\n",
      "32017/32017 - 391s - 12ms/step - accuracy: 0.2225 - loss: 3.4382 - val_accuracy: 0.2020 - val_loss: 3.6385\n",
      "Epoch 36/50\n",
      "32017/32017 - 405s - 13ms/step - accuracy: 0.2221 - loss: 3.4426 - val_accuracy: 0.2035 - val_loss: 3.6324\n",
      "Epoch 37/50\n",
      "32017/32017 - 405s - 13ms/step - accuracy: 0.2215 - loss: 3.4448 - val_accuracy: 0.2058 - val_loss: 3.6522\n",
      "Epoch 38/50\n",
      "32017/32017 - 412s - 13ms/step - accuracy: 0.2213 - loss: 3.4482 - val_accuracy: 0.2050 - val_loss: 3.6241\n",
      "Epoch 39/50\n",
      "32017/32017 - 405s - 13ms/step - accuracy: 0.2211 - loss: 3.4529 - val_accuracy: 0.2051 - val_loss: 3.6449\n",
      "Epoch 40/50\n",
      "32017/32017 - 401s - 13ms/step - accuracy: 0.2206 - loss: 3.4560 - val_accuracy: 0.2077 - val_loss: 3.6642\n",
      "Epoch 41/50\n",
      "32017/32017 - 407s - 13ms/step - accuracy: 0.2200 - loss: 3.4607 - val_accuracy: 0.2031 - val_loss: 3.6672\n",
      "Epoch 42/50\n",
      "32017/32017 - 406s - 13ms/step - accuracy: 0.2196 - loss: 3.4667 - val_accuracy: 0.2004 - val_loss: 3.6483\n",
      "Epoch 43/50\n",
      "32017/32017 - 404s - 13ms/step - accuracy: 0.2192 - loss: 3.4680 - val_accuracy: 0.2015 - val_loss: 3.6834\n",
      "Epoch 44/50\n",
      "32017/32017 - 399s - 12ms/step - accuracy: 0.2189 - loss: 3.4734 - val_accuracy: 0.1963 - val_loss: 3.6704\n",
      "Epoch 45/50\n",
      "32017/32017 - 400s - 12ms/step - accuracy: 0.2184 - loss: 3.4771 - val_accuracy: 0.1949 - val_loss: 3.6633\n",
      "Epoch 46/50\n",
      "32017/32017 - 405s - 13ms/step - accuracy: 0.2181 - loss: 3.4830 - val_accuracy: 0.2021 - val_loss: 3.6816\n",
      "Epoch 47/50\n",
      "32017/32017 - 406s - 13ms/step - accuracy: 0.2176 - loss: 3.4853 - val_accuracy: 0.1947 - val_loss: 3.7083\n",
      "Epoch 48/50\n",
      "32017/32017 - 403s - 13ms/step - accuracy: 0.2165 - loss: 3.4915 - val_accuracy: 0.2014 - val_loss: 3.6725\n",
      "Epoch 49/50\n",
      "32017/32017 - 401s - 13ms/step - accuracy: 0.2165 - loss: 3.4955 - val_accuracy: 0.2001 - val_loss: 3.6709\n",
      "Epoch 50/50\n",
      "32017/32017 - 400s - 13ms/step - accuracy: 0.2161 - loss: 3.5020 - val_accuracy: 0.1999 - val_loss: 3.7001\n"
     ]
    },
    {
     "data": {
      "text/plain": [
       "<Figure size 640x480 with 1 Axes>"
      ],
      "image/png": "[encoded data removed]"
     },
     "metadata": {},
     "output_type": "display_data"
    }
   ],
   "execution_count": 5
  },
  {
   "metadata": {},
   "cell_type": "markdown",
   "source": [
    "# 3 Prepare Model\n",
    "## 3.1 Export Dictionary"
   ],
   "id": "a5f539c0c6c5aff4"
  },
  {
   "metadata": {
    "ExecuteTime": {
     "end_time": "2024-09-24T04:06:04.751132Z",
     "start_time": "2024-09-24T04:06:04.746401Z"
    }
   },
   "cell_type": "code",
   "source": [
    "# taken from https://github.com/Skripkon/chess-engine\n",
    "int_to_move = dict(zip(move_to_int.values(), move_to_int.keys()))\n",
    "\n",
    "with open('dict.json', 'w') as f:\n",
    "    json.dump(int_to_move, f)"
   ],
   "id": "54c2e5ec1ddbfcde",
   "outputs": [],
   "execution_count": 6
  }
 ],
 "metadata": {
  "kernelspec": {
   "display_name": "Python 3",
   "language": "python",
   "name": "python3"
  },
  "language_info": {
   "codemirror_mode": {
    "name": "ipython",
    "version": 2
   },
   "file_extension": ".py",
   "mimetype": "text/x-python",
   "name": "python",
   "nbconvert_exporter": "python",
   "pygments_lexer": "ipython2",
   "version": "2.7.6"
  }
 },
 "nbformat": 4,
 "nbformat_minor": 5
}
