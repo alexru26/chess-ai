{
 "cells": [
  {
   "metadata": {},
   "cell_type": "markdown",
   "source": [
    "# 1 Preliminaries\n",
    "## 1.1 Import\n",
    "Import required libraries."
   ],
   "id": "352ab3891add059b"
  },
  {
   "metadata": {
    "ExecuteTime": {
     "end_time": "2024-09-18T23:39:36.112666Z",
     "start_time": "2024-09-18T23:39:36.108948Z"
    }
   },
   "cell_type": "code",
   "source": [
    "import os\n",
    "import pandas as pd\n",
    "import numpy as np\n",
    "from keras import callbacks, layers, models, optimizers, utils\n",
    "import json\n",
    "import chess\n",
    "import chess.pgn"
   ],
   "id": "8958b478d1ef1848",
   "outputs": [],
   "execution_count": 31
  },
  {
   "metadata": {},
   "cell_type": "markdown",
   "source": [
    "## 1.2 Load Data\n",
    "Load the pgn file and create DataFrame. It should have three columns:\n",
    "- Color\n",
    "- Board\n",
    "- Move"
   ],
   "id": "ab9c3b1330f8796"
  },
  {
   "metadata": {
    "ExecuteTime": {
     "end_time": "2024-09-18T17:25:01.055787Z",
     "start_time": "2024-09-18T17:23:36.251501Z"
    }
   },
   "cell_type": "code",
   "source": [
    "def space_to_int(space):\n",
    "    row_val = {'a': 0,'b': 1,'c': 2,'d': 3,'e': 4,'f': 5,'g': 6,'h': 7}\n",
    "    letter = chess.square_name(space) # returns letter of space (ex. a3)\n",
    "    return 8-int(letter[1]), row_val[letter[0]] # returns row, column\n",
    "\n",
    "def split_boards(board):\n",
    "    \"\"\"\n",
    "    Splits board into 14 different boards\n",
    "    :param board: current board\n",
    "    :return: length 14 array of boards based on piece location and attack\n",
    "    0-5 are white pieces (pawn, knight, bishop, rook, queen, king)\n",
    "    6-11 is black pieces (pawn, knight, bishop, rook, queen, king)\n",
    "    12 is white legal moves\n",
    "    13 is black legal moves\n",
    "    \"\"\"\n",
    "    res = np.zeros((14, 8, 8), dtype=np.int8) # creates array of length 14 where each element is a board\n",
    "    \n",
    "    for piece in chess.PIECE_TYPES:\n",
    "        for square in board.pieces(piece, chess.WHITE):\n",
    "            # gets the location of where the square is and stores it into res\n",
    "            index = np.unravel_index(square, (8,8)) # see https://stackoverflow.com/questions/48135736/what-is-an-intuitive-explanation-of-np-unravel-index\n",
    "            res[piece-1][7-index[0]][index[1]] = 1 # 7-index[0] is row, index[1] is column\n",
    "        for square in board.pieces(piece, chess.BLACK):\n",
    "            # same idea but black pieces this time\n",
    "            index = np.unravel_index(square, (8,8))\n",
    "            res[piece+5][7-index[0]][index[1]] = 1 # +5 because of res indexing\n",
    "        \n",
    "    turn = board.turn # store current turn to use later\n",
    "    \n",
    "    # get legal moves for white\n",
    "    board.turn = chess.WHITE\n",
    "    for move in board.legal_moves:\n",
    "        r, c = space_to_int(move.to_square)\n",
    "        res[12][r][c] = 1\n",
    "        \n",
    "    # get legal moves for black\n",
    "    board.turn = chess.BLACK\n",
    "    for move in board.legal_moves:\n",
    "        r, c = space_to_int(move.to_square)\n",
    "        res[13][r][c] = 1\n",
    "        \n",
    "    board.turn = turn # restore original turn\n",
    "    \n",
    "    return res\n",
    "\n",
    "def read_data(file):\n",
    "    X_res = []\n",
    "    y_res = []\n",
    "    while True:\n",
    "        try:\n",
    "            game = chess.pgn.read_game(file)\n",
    "            \n",
    "            if game is None:\n",
    "                break\n",
    "                \n",
    "            board = game.board()\n",
    "            \n",
    "            color = \"white\" if game.headers[\"White\"] == file.name[:-4] else \"black\"\n",
    "            \n",
    "            for move in game.mainline_moves():\n",
    "                if(color == \"white\" and board.turn == chess.WHITE) or (color == \"black\" and board.turn == chess.BLACK):\n",
    "                    X_res.append(split_boards(board))\n",
    "                    y_res.append(move.uci())\n",
    "                board.push(move)\n",
    "        except Exception as e:\n",
    "            print(e)\n",
    "    return X_res, y_res\n",
    "\n",
    "def encode_moves(moves):\n",
    "    move_to_int = {move: idx for idx, move in enumerate(set(moves))}\n",
    "    return [move_to_int[move] for move in moves], move_to_int\n",
    "\n",
    "X_train = []\n",
    "y_train = []\n",
    "directory = '../data'\n",
    "for filename in os.listdir(directory):\n",
    "    f = os.path.join(directory, filename)\n",
    "\n",
    "    if os.path.isfile(f) and filename[-3:] == \"pgn\":\n",
    "        with open(f, 'r') as pgn:\n",
    "            print(f)\n",
    "            X_res, y_res = read_data(pgn)\n",
    "            X_train += X_res\n",
    "            y_train += y_res\n",
    "\n",
    "y_train, move_to_int = encode_moves(y_train)\n",
    "y_train = utils.to_categorical(y_train, num_classes=len(move_to_int))\n",
    "\n",
    "X_train = np.array(X_train)\n",
    "y_train = np.array(y_train)\n",
    "\n",
    "print(X_train.shape)\n",
    "print(y_train.shape)"
   ],
   "id": "eae9a361a014173d",
   "outputs": [
    {
     "name": "stdout",
     "output_type": "stream",
     "text": [
      "../data/damnsaltythatsport.pgn\n",
      "../data/DannytheDonkey.pgn\n",
      "../data/DrGrekenstein.pgn\n",
      "../data/DrDrunkenstein.pgn\n",
      "../data/manwithavan.pgn\n",
      "../data/DrNykterstein.pgn\n"
     ]
    },
    {
     "name": "stderr",
     "output_type": "stream",
     "text": [
      "illegal san: 'Ng1' in rnbqkbnr/pppppppp/8/8/8/8/PPPPPPPP/RNBQKBNR w KQkq - 0 1 while parsing <Game at 0x14c83fb60 ('?' vs. '?', '????.??.??' at '?')>\n"
     ]
    },
    {
     "name": "stdout",
     "output_type": "stream",
     "text": [
      "'utf-8' codec can't decode byte 0xe4 in position 1147: invalid continuation byte\n"
     ]
    },
    {
     "name": "stderr",
     "output_type": "stream",
     "text": [
      "illegal san: 'Rac8' in rnbqkbnr/pppppppp/8/8/8/P7/1PPPPPPP/RNBQKBNR b KQkq - 0 1 while parsing <Game at 0x153d2f5f0 ('?' vs. '?', '????.??.??' at '?')>\n"
     ]
    },
    {
     "name": "stdout",
     "output_type": "stream",
     "text": [
      "'utf-8' codec can't decode byte 0xc5 in position 7052: invalid continuation byte\n",
      "'utf-8' codec can't decode byte 0xc5 in position 1045: invalid continuation byte\n",
      "'utf-8' codec can't decode byte 0xc5 in position 486: invalid continuation byte\n",
      "../data/DrChampionstein.pgn\n",
      "../data/STL_Carlsen.pgn\n",
      "../data/MagnusCarlsen.pgn\n",
      "../data/neslraCsungaM77.pgn\n",
      "(561824, 14, 8, 8)\n",
      "(561824, 1825)\n"
     ]
    }
   ],
   "execution_count": 26
  },
  {
   "metadata": {},
   "cell_type": "markdown",
   "source": [
    "# 2 Train Model\n",
    "## 2.1 Create Model"
   ],
   "id": "eb4c30a510d2ae9e"
  },
  {
   "metadata": {
    "ExecuteTime": {
     "end_time": "2024-09-18T17:25:08.787759Z",
     "start_time": "2024-09-18T17:25:08.782457Z"
    }
   },
   "cell_type": "code",
   "source": [
    "def create_model():\n",
    "    \n",
    "    model = models.Sequential([\n",
    "        layers.Input(shape=(14,8,8)),\n",
    "        layers.Conv2D(64, kernel_size=3, activation='relu'),\n",
    "        layers.Conv2D(128, kernel_size=3, activation='relu'),\n",
    "        layers.Flatten(),\n",
    "        layers.Dense(256, activation='relu'),\n",
    "        layers.Dense(len(move_to_int), activation='softmax')\n",
    "    ])\n",
    "    \n",
    "    optimizer = optimizers.Adam()\n",
    "    loss = 'categorical_crossentropy'\n",
    "    metrics = ['accuracy']\n",
    "    \n",
    "    model.compile(\n",
    "        optimizer=optimizer, \n",
    "        loss=loss, \n",
    "        metrics=metrics\n",
    "    )\n",
    "    \n",
    "    # print(model.summary())\n",
    "    \n",
    "    return model"
   ],
   "id": "1f53f5026bc6276a",
   "outputs": [],
   "execution_count": 27
  },
  {
   "metadata": {},
   "cell_type": "markdown",
   "source": "## 2.2 Fit Model",
   "id": "21dfcca3154e4f15"
  },
  {
   "metadata": {},
   "cell_type": "code",
   "source": [
    "model = create_model()\n",
    "\n",
    "# model = models.load_model('../models/ai.keras')\n",
    "\n",
    "early_stopping = callbacks.EarlyStopping(\n",
    "    monitor='loss',\n",
    "    min_delta=0.001,  # minimium amount of change to count as an improvement\n",
    "    patience=20,  # how many epochs to wait before stopping\n",
    "    restore_best_weights=True,\n",
    ")\n",
    "\n",
    "history = model.fit(\n",
    "    X_train, y_train,\n",
    "    batch_size=64,\n",
    "    epochs=100,\n",
    "    callbacks=[\n",
    "        early_stopping,\n",
    "    ],\n",
    "    verbose=1,\n",
    ")\n",
    "\n",
    "history_df = pd.DataFrame(history.history)\n",
    "history_df.loc[:, ['loss', 'accuracy']].plot()\n",
    "\n",
    "model.save('../models/ai.keras')"
   ],
   "id": "efbe578dde724685",
   "outputs": [
    {
     "name": "stdout",
     "output_type": "stream",
     "text": [
      "\u001B[1m8779/8779\u001B[0m \u001B[32m━━━━━━━━━━━━━━━━━━━━\u001B[0m\u001B[37m\u001B[0m \u001B[1m182s\u001B[0m 21ms/step - accuracy: 0.6030 - loss: 1.3734\n",
      "Epoch 100/100\n",
      "\u001B[1m8779/8779\u001B[0m \u001B[32m━━━━━━━━━━━━━━━━━━━━\u001B[0m\u001B[37m\u001B[0m \u001B[1m164s\u001B[0m 19ms/step - accuracy: 0.6017 - loss: 1.3758\n"
     ]
    },
    {
     "data": {
      "text/plain": [
       "<Figure size 640x480 with 1 Axes>"
      ],
      "image/png": "[encoded data removed]"
     },
     "metadata": {},
     "output_type": "display_data"
    }
   ],
   "execution_count": 29
  },
  {
   "metadata": {},
   "cell_type": "markdown",
   "source": "## 2.3 Evaluate Model",
   "id": "73b4365b640e0f7e"
  },
  {
   "metadata": {},
   "cell_type": "code",
   "source": [
    "model = models.load_model('../models/ai.keras')\n",
    "\n",
    "# X_test, y_test = load_data(1)\n",
    "# \n",
    "# score = model.evaluate(X_test, y_test, verbose=0)\n",
    "# print('Test loss:', score[0])\n",
    "# print('Test mean absolute error:', score[1])"
   ],
   "id": "88677fe8c8f05f1f",
   "outputs": [],
   "execution_count": null
  },
  {
   "metadata": {},
   "cell_type": "markdown",
   "source": [
    "# 3 Prepare Model\n",
    "## 3.1 Export Dictionary"
   ],
   "id": "a5f539c0c6c5aff4"
  },
  {
   "metadata": {
    "ExecuteTime": {
     "end_time": "2024-09-18T23:39:38.052955Z",
     "start_time": "2024-09-18T23:39:38.045891Z"
    }
   },
   "cell_type": "code",
   "source": [
    "int_to_move = dict(zip(move_to_int.values(), move_to_int.keys()))\n",
    "\n",
    "with open('dict.json', 'w') as f:\n",
    "    json.dump(int_to_move, f)"
   ],
   "id": "54c2e5ec1ddbfcde",
   "outputs": [],
   "execution_count": 32
  }
 ],
 "metadata": {
  "kernelspec": {
   "display_name": "Python 3",
   "language": "python",
   "name": "python3"
  },
  "language_info": {
   "codemirror_mode": {
    "name": "ipython",
    "version": 2
   },
   "file_extension": ".py",
   "mimetype": "text/x-python",
   "name": "python",
   "nbconvert_exporter": "python",
   "pygments_lexer": "ipython2",
   "version": "2.7.6"
  }
 },
 "nbformat": 4,
 "nbformat_minor": 5
}
