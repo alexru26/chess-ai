{
 "cells": [
  {
   "metadata": {},
   "cell_type": "markdown",
   "source": [
    "# 1 Preliminaries\n",
    "## 1.1 Import\n",
    "Import required libraries."
   ],
   "id": "352ab3891add059b"
  },
  {
   "metadata": {
    "ExecuteTime": {
     "end_time": "2024-09-02T01:25:50.190355Z",
     "start_time": "2024-09-02T01:25:50.184720Z"
    }
   },
   "cell_type": "code",
   "source": [
    "import numpy as np\n",
    "from keras import backend as K\n",
    "from keras import callbacks, models, layers, ops\n",
    "import pandas as pd\n",
    "import chess.pgn"
   ],
   "id": "8958b478d1ef1848",
   "outputs": [],
   "execution_count": 206
  },
  {
   "metadata": {},
   "cell_type": "markdown",
   "source": [
    "## 1.2 Load Data\n",
    "Load the pgn file and create DataFrame. It should have three columns:\n",
    "- Color\n",
    "- Board\n",
    "- Move"
   ],
   "id": "ab9c3b1330f8796"
  },
  {
   "metadata": {
    "ExecuteTime": {
     "end_time": "2024-09-02T01:25:50.367522Z",
     "start_time": "2024-09-02T01:25:50.276244Z"
    }
   },
   "cell_type": "code",
   "source": [
    "def fen_to_board(fen):\n",
    "    \"\"\"Function written by ChatGPT\"\"\"\n",
    "    piece_to_char = {\n",
    "        'p': 'p', 'r': 'r', 'n': 'n', 'b': 'b', 'q': 'q', 'k': 'k',\n",
    "        'P': 'P', 'R': 'R', 'N': 'N', 'B': 'B', 'Q': 'Q', 'K': 'K',\n",
    "        '1': '.', '2': '.', '3': '.', '4': '.', '5': '.', '6': '.', '7': '.', '8': '.'\n",
    "    }\n",
    "    board = []\n",
    "    for row in fen.split()[0].split('/'):\n",
    "        board_row = []\n",
    "        for char in row:\n",
    "            if char.isdigit():\n",
    "                board_row.extend(['.'] * int(char))\n",
    "            else:\n",
    "                board_row.append(piece_to_char[char])\n",
    "        board.append(board_row)\n",
    "    return np.array(board)\n",
    "\n",
    "data = []\n",
    "with open('data/master_games.pgn', 'r') as pgn:\n",
    "    while True:\n",
    "        game = chess.pgn.read_game(pgn)\n",
    "        \n",
    "        if game is None:\n",
    "            break\n",
    "            \n",
    "        board = game.board()\n",
    "        \n",
    "        color = \"white\" if game.headers[\"White\"] == \"Carlsen, Magnus\" else \"black\"\n",
    "        \n",
    "        for move in game.mainline_moves():\n",
    "            if(color == \"white\" and board.turn == chess.WHITE) or (color == \"black\" and board.turn == chess.BLACK):\n",
    "                data.append({\n",
    "                    \"board\": fen_to_board(board.fen()).reshape(8, 8),\n",
    "                    \"color\": color,\n",
    "                    \"move\": move,\n",
    "                })\n",
    "            board.push(move)\n",
    "        \n",
    "df = pd.DataFrame(data)\n",
    "df"
   ],
   "id": "eae9a361a014173d",
   "outputs": [
    {
     "data": {
      "text/plain": [
       "                                                 board  color  move\n",
       "0    [[r, n, b, q, k, b, n, r], [p, p, p, p, p, p, ...  white  e2e4\n",
       "1    [[r, n, b, q, k, b, n, r], [p, p, ., p, p, p, ...  white  g1f3\n",
       "2    [[r, n, b, q, k, b, n, r], [p, p, ., ., p, p, ...  white  d2d4\n",
       "3    [[r, n, b, q, k, b, n, r], [p, p, ., ., p, p, ...  white  f3d4\n",
       "4    [[r, n, b, q, k, b, ., r], [p, p, ., ., p, p, ...  white  d1e2\n",
       "..                                                 ...    ...   ...\n",
       "99   [[., ., ., ., ., ., ., .], [., ., ., ., ., ., ...  white  g4g5\n",
       "100  [[., ., ., ., ., ., ., .], [., ., ., ., ., ., ...  white  g2g3\n",
       "101  [[., ., ., ., ., ., ., .], [., ., ., ., ., ., ...  white  g3f3\n",
       "102  [[., ., ., ., ., ., ., .], [., ., ., ., ., ., ...  white  f3g4\n",
       "103  [[., ., ., ., ., ., ., .], [., ., ., ., ., ., ...  white  g4f5\n",
       "\n",
       "[104 rows x 3 columns]"
      ],
      "text/html": [
       "<div>\n",
       "<style scoped>\n",
       "    .dataframe tbody tr th:only-of-type {\n",
       "        vertical-align: middle;\n",
       "    }\n",
       "\n",
       "    .dataframe tbody tr th {\n",
       "        vertical-align: top;\n",
       "    }\n",
       "\n",
       "    .dataframe thead th {\n",
       "        text-align: right;\n",
       "    }\n",
       "</style>\n",
       "<table border=\"1\" class=\"dataframe\">\n",
       "  <thead>\n",
       "    <tr style=\"text-align: right;\">\n",
       "      <th></th>\n",
       "      <th>board</th>\n",
       "      <th>color</th>\n",
       "      <th>move</th>\n",
       "    </tr>\n",
       "  </thead>\n",
       "  <tbody>\n",
       "    <tr>\n",
       "      <th>0</th>\n",
       "      <td>[[r, n, b, q, k, b, n, r], [p, p, p, p, p, p, ...</td>\n",
       "      <td>white</td>\n",
       "      <td>e2e4</td>\n",
       "    </tr>\n",
       "    <tr>\n",
       "      <th>1</th>\n",
       "      <td>[[r, n, b, q, k, b, n, r], [p, p, ., p, p, p, ...</td>\n",
       "      <td>white</td>\n",
       "      <td>g1f3</td>\n",
       "    </tr>\n",
       "    <tr>\n",
       "      <th>2</th>\n",
       "      <td>[[r, n, b, q, k, b, n, r], [p, p, ., ., p, p, ...</td>\n",
       "      <td>white</td>\n",
       "      <td>d2d4</td>\n",
       "    </tr>\n",
       "    <tr>\n",
       "      <th>3</th>\n",
       "      <td>[[r, n, b, q, k, b, n, r], [p, p, ., ., p, p, ...</td>\n",
       "      <td>white</td>\n",
       "      <td>f3d4</td>\n",
       "    </tr>\n",
       "    <tr>\n",
       "      <th>4</th>\n",
       "      <td>[[r, n, b, q, k, b, ., r], [p, p, ., ., p, p, ...</td>\n",
       "      <td>white</td>\n",
       "      <td>d1e2</td>\n",
       "    </tr>\n",
       "    <tr>\n",
       "      <th>...</th>\n",
       "      <td>...</td>\n",
       "      <td>...</td>\n",
       "      <td>...</td>\n",
       "    </tr>\n",
       "    <tr>\n",
       "      <th>99</th>\n",
       "      <td>[[., ., ., ., ., ., ., .], [., ., ., ., ., ., ...</td>\n",
       "      <td>white</td>\n",
       "      <td>g4g5</td>\n",
       "    </tr>\n",
       "    <tr>\n",
       "      <th>100</th>\n",
       "      <td>[[., ., ., ., ., ., ., .], [., ., ., ., ., ., ...</td>\n",
       "      <td>white</td>\n",
       "      <td>g2g3</td>\n",
       "    </tr>\n",
       "    <tr>\n",
       "      <th>101</th>\n",
       "      <td>[[., ., ., ., ., ., ., .], [., ., ., ., ., ., ...</td>\n",
       "      <td>white</td>\n",
       "      <td>g3f3</td>\n",
       "    </tr>\n",
       "    <tr>\n",
       "      <th>102</th>\n",
       "      <td>[[., ., ., ., ., ., ., .], [., ., ., ., ., ., ...</td>\n",
       "      <td>white</td>\n",
       "      <td>f3g4</td>\n",
       "    </tr>\n",
       "    <tr>\n",
       "      <th>103</th>\n",
       "      <td>[[., ., ., ., ., ., ., .], [., ., ., ., ., ., ...</td>\n",
       "      <td>white</td>\n",
       "      <td>g4f5</td>\n",
       "    </tr>\n",
       "  </tbody>\n",
       "</table>\n",
       "<p>104 rows × 3 columns</p>\n",
       "</div>"
      ]
     },
     "execution_count": 207,
     "metadata": {},
     "output_type": "execute_result"
    }
   ],
   "execution_count": 207
  },
  {
   "metadata": {},
   "cell_type": "markdown",
   "source": [
    "## 1.3 Visualize Data\n",
    "Visualize the board to make sure we're chilling.\n"
   ],
   "id": "34f0388262701306"
  },
  {
   "metadata": {
    "ExecuteTime": {
     "end_time": "2024-09-02T01:25:50.569132Z",
     "start_time": "2024-09-02T01:25:50.556870Z"
    }
   },
   "cell_type": "code",
   "source": [
    "for i in range(5):\n",
    "    print(df['board'][i])\n",
    "    print(df['move'][i])\n",
    "    print('\\n')"
   ],
   "id": "879efabe60c37a78",
   "outputs": [
    {
     "name": "stdout",
     "output_type": "stream",
     "text": [
      "[['r' 'n' 'b' 'q' 'k' 'b' 'n' 'r']\n",
      " ['p' 'p' 'p' 'p' 'p' 'p' 'p' 'p']\n",
      " ['.' '.' '.' '.' '.' '.' '.' '.']\n",
      " ['.' '.' '.' '.' '.' '.' '.' '.']\n",
      " ['.' '.' '.' '.' '.' '.' '.' '.']\n",
      " ['.' '.' '.' '.' '.' '.' '.' '.']\n",
      " ['P' 'P' 'P' 'P' 'P' 'P' 'P' 'P']\n",
      " ['R' 'N' 'B' 'Q' 'K' 'B' 'N' 'R']]\n",
      "e2e4\n",
      "\n",
      "\n",
      "[['r' 'n' 'b' 'q' 'k' 'b' 'n' 'r']\n",
      " ['p' 'p' '.' 'p' 'p' 'p' 'p' 'p']\n",
      " ['.' '.' '.' '.' '.' '.' '.' '.']\n",
      " ['.' '.' 'p' '.' '.' '.' '.' '.']\n",
      " ['.' '.' '.' '.' 'P' '.' '.' '.']\n",
      " ['.' '.' '.' '.' '.' '.' '.' '.']\n",
      " ['P' 'P' 'P' 'P' '.' 'P' 'P' 'P']\n",
      " ['R' 'N' 'B' 'Q' 'K' 'B' 'N' 'R']]\n",
      "g1f3\n",
      "\n",
      "\n",
      "[['r' 'n' 'b' 'q' 'k' 'b' 'n' 'r']\n",
      " ['p' 'p' '.' '.' 'p' 'p' 'p' 'p']\n",
      " ['.' '.' '.' 'p' '.' '.' '.' '.']\n",
      " ['.' '.' 'p' '.' '.' '.' '.' '.']\n",
      " ['.' '.' '.' '.' 'P' '.' '.' '.']\n",
      " ['.' '.' '.' '.' '.' 'N' '.' '.']\n",
      " ['P' 'P' 'P' 'P' '.' 'P' 'P' 'P']\n",
      " ['R' 'N' 'B' 'Q' 'K' 'B' '.' 'R']]\n",
      "d2d4\n",
      "\n",
      "\n",
      "[['r' 'n' 'b' 'q' 'k' 'b' 'n' 'r']\n",
      " ['p' 'p' '.' '.' 'p' 'p' 'p' 'p']\n",
      " ['.' '.' '.' 'p' '.' '.' '.' '.']\n",
      " ['.' '.' '.' '.' '.' '.' '.' '.']\n",
      " ['.' '.' '.' 'p' 'P' '.' '.' '.']\n",
      " ['.' '.' '.' '.' '.' 'N' '.' '.']\n",
      " ['P' 'P' 'P' '.' '.' 'P' 'P' 'P']\n",
      " ['R' 'N' 'B' 'Q' 'K' 'B' '.' 'R']]\n",
      "f3d4\n",
      "\n",
      "\n",
      "[['r' 'n' 'b' 'q' 'k' 'b' '.' 'r']\n",
      " ['p' 'p' '.' '.' 'p' 'p' 'p' 'p']\n",
      " ['.' '.' '.' 'p' '.' 'n' '.' '.']\n",
      " ['.' '.' '.' '.' '.' '.' '.' '.']\n",
      " ['.' '.' '.' 'N' 'P' '.' '.' '.']\n",
      " ['.' '.' '.' '.' '.' '.' '.' '.']\n",
      " ['P' 'P' 'P' '.' '.' 'P' 'P' 'P']\n",
      " ['R' 'N' 'B' 'Q' 'K' 'B' '.' 'R']]\n",
      "d1e2\n",
      "\n",
      "\n"
     ]
    }
   ],
   "execution_count": 208
  },
  {
   "metadata": {},
   "cell_type": "markdown",
   "source": [
    "## 1.4 Clean Data\n",
    "Clean data."
   ],
   "id": "e81f2687024e08f5"
  },
  {
   "metadata": {
    "ExecuteTime": {
     "end_time": "2024-09-02T01:25:50.747255Z",
     "start_time": "2024-09-02T01:25:50.732266Z"
    }
   },
   "cell_type": "code",
   "source": [
    "df['color'] = df['color'].apply(lambda x: 1 if x == 'white' else 0)\n",
    "# df['move'] = df['move'].astype('category')\n",
    "df.dtypes"
   ],
   "id": "403f6b34dc266430",
   "outputs": [
    {
     "data": {
      "text/plain": [
       "board    object\n",
       "color     int64\n",
       "move     object\n",
       "dtype: object"
      ]
     },
     "execution_count": 209,
     "metadata": {},
     "output_type": "execute_result"
    }
   ],
   "execution_count": 209
  },
  {
   "metadata": {},
   "cell_type": "markdown",
   "source": "## 1.5 Split Data",
   "id": "196587837e9f211b"
  },
  {
   "metadata": {
    "ExecuteTime": {
     "end_time": "2024-09-02T01:25:50.841671Z",
     "start_time": "2024-09-02T01:25:50.830029Z"
    }
   },
   "cell_type": "code",
   "source": [
    "df_train = df.sample(frac=0.8)\n",
    "df_valid = df.drop(df_train.index)\n",
    "\n",
    "X_train = df_train.drop('move', axis=1)\n",
    "X_valid = df_valid.drop('move', axis=1)\n",
    "y_train = df_train['move']\n",
    "y_valid = df_valid['move']"
   ],
   "id": "7e7dc49abffa9e69",
   "outputs": [],
   "execution_count": 210
  },
  {
   "metadata": {},
   "cell_type": "markdown",
   "source": [
    "# 2 Train Model\n",
    "## 2.1 Create Model"
   ],
   "id": "eb4c30a510d2ae9e"
  },
  {
   "metadata": {
    "ExecuteTime": {
     "end_time": "2024-09-02T01:25:51.072142Z",
     "start_time": "2024-09-02T01:25:50.948142Z"
    }
   },
   "cell_type": "code",
   "source": [
    "early_stopping = callbacks.EarlyStopping(\n",
    "    min_delta=0.001,  # minimium amount of change to count as an improvement\n",
    "    patience=20,  # how many epochs to wait before stopping\n",
    "    restore_best_weights=True,\n",
    ")\n",
    "\n",
    "model = \n",
    "\n",
    "model.compile(\n",
    "    optimizer='adam',\n",
    "    loss='categorical_crossentropy',\n",
    ")"
   ],
   "id": "1f53f5026bc6276a",
   "outputs": [
    {
     "ename": "ValueError",
     "evalue": "All `outputs` values must be KerasTensors. Received: outputs=<Dense name=dense_52, built=False> including invalid value <Dense name=dense_52, built=False> of type <class 'keras.src.layers.core.dense.Dense'>",
     "output_type": "error",
     "traceback": [
      "\u001B[1;31m---------------------------------------------------------------------------\u001B[0m",
      "\u001B[1;31mValueError\u001B[0m                                Traceback (most recent call last)",
      "Cell \u001B[1;32mIn[211], line 20\u001B[0m\n\u001B[0;32m     17\u001B[0m x \u001B[38;5;241m=\u001B[39m layers\u001B[38;5;241m.\u001B[39mDense(\u001B[38;5;241m512\u001B[39m, activation\u001B[38;5;241m=\u001B[39m\u001B[38;5;124m'\u001B[39m\u001B[38;5;124mrelu\u001B[39m\u001B[38;5;124m'\u001B[39m)(x)\n\u001B[0;32m     18\u001B[0m move_output \u001B[38;5;241m=\u001B[39m layers\u001B[38;5;241m.\u001B[39mDense(\u001B[38;5;241m1\u001B[39m, activation\u001B[38;5;241m=\u001B[39m\u001B[38;5;124m'\u001B[39m\u001B[38;5;124msoftmax\u001B[39m\u001B[38;5;124m'\u001B[39m)  \u001B[38;5;66;03m# 64x64 possible moves\u001B[39;00m\n\u001B[1;32m---> 20\u001B[0m model \u001B[38;5;241m=\u001B[39m \u001B[43mmodels\u001B[49m\u001B[38;5;241;43m.\u001B[39;49m\u001B[43mModel\u001B[49m\u001B[43m(\u001B[49m\u001B[43minputs\u001B[49m\u001B[38;5;241;43m=\u001B[39;49m\u001B[43mboard_input\u001B[49m\u001B[43m,\u001B[49m\u001B[43m \u001B[49m\u001B[43moutputs\u001B[49m\u001B[38;5;241;43m=\u001B[39;49m\u001B[43mmove_output\u001B[49m\u001B[43m)\u001B[49m\n\u001B[0;32m     22\u001B[0m model\u001B[38;5;241m.\u001B[39mcompile(\n\u001B[0;32m     23\u001B[0m     optimizer\u001B[38;5;241m=\u001B[39m\u001B[38;5;124m'\u001B[39m\u001B[38;5;124madam\u001B[39m\u001B[38;5;124m'\u001B[39m,\n\u001B[0;32m     24\u001B[0m     loss\u001B[38;5;241m=\u001B[39m\u001B[38;5;124m'\u001B[39m\u001B[38;5;124mcategorical_crossentropy\u001B[39m\u001B[38;5;124m'\u001B[39m,\n\u001B[0;32m     25\u001B[0m )\n",
      "File \u001B[1;32m~\\PycharmProjects\\Project01_ML\\.venv\\Lib\\site-packages\\keras\\src\\utils\\tracking.py:26\u001B[0m, in \u001B[0;36mno_automatic_dependency_tracking.<locals>.wrapper\u001B[1;34m(*args, **kwargs)\u001B[0m\n\u001B[0;32m     23\u001B[0m \u001B[38;5;129m@wraps\u001B[39m(fn)\n\u001B[0;32m     24\u001B[0m \u001B[38;5;28;01mdef\u001B[39;00m \u001B[38;5;21mwrapper\u001B[39m(\u001B[38;5;241m*\u001B[39margs, \u001B[38;5;241m*\u001B[39m\u001B[38;5;241m*\u001B[39mkwargs):\n\u001B[0;32m     25\u001B[0m     \u001B[38;5;28;01mwith\u001B[39;00m DotNotTrackScope():\n\u001B[1;32m---> 26\u001B[0m         \u001B[38;5;28;01mreturn\u001B[39;00m \u001B[43mfn\u001B[49m\u001B[43m(\u001B[49m\u001B[38;5;241;43m*\u001B[39;49m\u001B[43margs\u001B[49m\u001B[43m,\u001B[49m\u001B[43m \u001B[49m\u001B[38;5;241;43m*\u001B[39;49m\u001B[38;5;241;43m*\u001B[39;49m\u001B[43mkwargs\u001B[49m\u001B[43m)\u001B[49m\n",
      "File \u001B[1;32m~\\PycharmProjects\\Project01_ML\\.venv\\Lib\\site-packages\\keras\\src\\models\\functional.py:126\u001B[0m, in \u001B[0;36mFunctional.__init__\u001B[1;34m(self, inputs, outputs, name, **kwargs)\u001B[0m\n\u001B[0;32m    124\u001B[0m \u001B[38;5;28;01mfor\u001B[39;00m x \u001B[38;5;129;01min\u001B[39;00m flat_outputs:\n\u001B[0;32m    125\u001B[0m     \u001B[38;5;28;01mif\u001B[39;00m \u001B[38;5;129;01mnot\u001B[39;00m \u001B[38;5;28misinstance\u001B[39m(x, backend\u001B[38;5;241m.\u001B[39mKerasTensor):\n\u001B[1;32m--> 126\u001B[0m         \u001B[38;5;28;01mraise\u001B[39;00m \u001B[38;5;167;01mValueError\u001B[39;00m(\n\u001B[0;32m    127\u001B[0m             \u001B[38;5;124m\"\u001B[39m\u001B[38;5;124mAll `outputs` values must be KerasTensors. Received: \u001B[39m\u001B[38;5;124m\"\u001B[39m\n\u001B[0;32m    128\u001B[0m             \u001B[38;5;124mf\u001B[39m\u001B[38;5;124m\"\u001B[39m\u001B[38;5;124moutputs=\u001B[39m\u001B[38;5;132;01m{\u001B[39;00moutputs\u001B[38;5;132;01m}\u001B[39;00m\u001B[38;5;124m including invalid value \u001B[39m\u001B[38;5;132;01m{\u001B[39;00mx\u001B[38;5;132;01m}\u001B[39;00m\u001B[38;5;124m of \u001B[39m\u001B[38;5;124m\"\u001B[39m\n\u001B[0;32m    129\u001B[0m             \u001B[38;5;124mf\u001B[39m\u001B[38;5;124m\"\u001B[39m\u001B[38;5;124mtype \u001B[39m\u001B[38;5;132;01m{\u001B[39;00m\u001B[38;5;28mtype\u001B[39m(x)\u001B[38;5;132;01m}\u001B[39;00m\u001B[38;5;124m\"\u001B[39m\n\u001B[0;32m    130\u001B[0m         )\n\u001B[0;32m    132\u001B[0m \u001B[38;5;28;01mif\u001B[39;00m \u001B[38;5;129;01mnot\u001B[39;00m \u001B[38;5;28mall\u001B[39m(is_input_keras_tensor(t) \u001B[38;5;28;01mfor\u001B[39;00m t \u001B[38;5;129;01min\u001B[39;00m flat_inputs):\n\u001B[0;32m    133\u001B[0m     inputs, outputs \u001B[38;5;241m=\u001B[39m clone_graph_nodes(inputs, outputs)\n",
      "\u001B[1;31mValueError\u001B[0m: All `outputs` values must be KerasTensors. Received: outputs=<Dense name=dense_52, built=False> including invalid value <Dense name=dense_52, built=False> of type <class 'keras.src.layers.core.dense.Dense'>"
     ]
    }
   ],
   "execution_count": 211
  },
  {
   "metadata": {},
   "cell_type": "markdown",
   "source": "## 2.2 Fit Model",
   "id": "21dfcca3154e4f15"
  },
  {
   "metadata": {
    "ExecuteTime": {
     "end_time": "2024-09-02T01:25:51.207155700Z",
     "start_time": "2024-09-02T01:15:50.093203Z"
    }
   },
   "cell_type": "code",
   "source": [
    "history = model.fit(\n",
    "    X_train, y_train,\n",
    "    validation_data=(X_valid, y_valid),\n",
    "    batch_size=1,\n",
    "    epochs=500,\n",
    "    callbacks=[early_stopping],\n",
    "    verbose=0,\n",
    ")\n",
    "\n",
    "history_df = pd.DataFrame(history.history)\n",
    "history_df.loc[:, ['loss', 'val_loss']].plot()\n",
    "\n",
    "model.save('deeplearningmodel.h5')"
   ],
   "id": "efbe578dde724685",
   "outputs": [
    {
     "ename": "ValueError",
     "evalue": "Failed to convert a NumPy array to a Tensor (Unsupported object type numpy.ndarray).",
     "output_type": "error",
     "traceback": [
      "\u001B[1;31m---------------------------------------------------------------------------\u001B[0m",
      "\u001B[1;31mValueError\u001B[0m                                Traceback (most recent call last)",
      "Cell \u001B[1;32mIn[187], line 1\u001B[0m\n\u001B[1;32m----> 1\u001B[0m history \u001B[38;5;241m=\u001B[39m \u001B[43mmodel\u001B[49m\u001B[38;5;241;43m.\u001B[39;49m\u001B[43mfit\u001B[49m\u001B[43m(\u001B[49m\n\u001B[0;32m      2\u001B[0m \u001B[43m    \u001B[49m\u001B[43m[\u001B[49m\u001B[43mX_train\u001B[49m\u001B[43m]\u001B[49m\u001B[43m,\u001B[49m\u001B[43m \u001B[49m\u001B[43my_train\u001B[49m\u001B[43m,\u001B[49m\n\u001B[0;32m      3\u001B[0m \u001B[43m    \u001B[49m\u001B[43mvalidation_data\u001B[49m\u001B[38;5;241;43m=\u001B[39;49m\u001B[43m(\u001B[49m\u001B[43mX_valid\u001B[49m\u001B[43m,\u001B[49m\u001B[43m \u001B[49m\u001B[43my_valid\u001B[49m\u001B[43m)\u001B[49m\u001B[43m,\u001B[49m\n\u001B[0;32m      4\u001B[0m \u001B[43m    \u001B[49m\u001B[43mbatch_size\u001B[49m\u001B[38;5;241;43m=\u001B[39;49m\u001B[38;5;241;43m1\u001B[39;49m\u001B[43m,\u001B[49m\n\u001B[0;32m      5\u001B[0m \u001B[43m    \u001B[49m\u001B[43mepochs\u001B[49m\u001B[38;5;241;43m=\u001B[39;49m\u001B[38;5;241;43m500\u001B[39;49m\u001B[43m,\u001B[49m\n\u001B[0;32m      6\u001B[0m \u001B[43m    \u001B[49m\u001B[43mcallbacks\u001B[49m\u001B[38;5;241;43m=\u001B[39;49m\u001B[43m[\u001B[49m\u001B[43mearly_stopping\u001B[49m\u001B[43m]\u001B[49m\u001B[43m,\u001B[49m\n\u001B[0;32m      7\u001B[0m \u001B[43m    \u001B[49m\u001B[43mverbose\u001B[49m\u001B[38;5;241;43m=\u001B[39;49m\u001B[38;5;241;43m0\u001B[39;49m\u001B[43m,\u001B[49m\n\u001B[0;32m      8\u001B[0m \u001B[43m)\u001B[49m\n\u001B[0;32m     10\u001B[0m history_df \u001B[38;5;241m=\u001B[39m pd\u001B[38;5;241m.\u001B[39mDataFrame(history\u001B[38;5;241m.\u001B[39mhistory)\n\u001B[0;32m     11\u001B[0m history_df\u001B[38;5;241m.\u001B[39mloc[:, [\u001B[38;5;124m'\u001B[39m\u001B[38;5;124mloss\u001B[39m\u001B[38;5;124m'\u001B[39m, \u001B[38;5;124m'\u001B[39m\u001B[38;5;124mval_loss\u001B[39m\u001B[38;5;124m'\u001B[39m]]\u001B[38;5;241m.\u001B[39mplot()\n",
      "File \u001B[1;32m~\\PycharmProjects\\Project01_ML\\.venv\\Lib\\site-packages\\keras\\src\\utils\\traceback_utils.py:122\u001B[0m, in \u001B[0;36mfilter_traceback.<locals>.error_handler\u001B[1;34m(*args, **kwargs)\u001B[0m\n\u001B[0;32m    119\u001B[0m     filtered_tb \u001B[38;5;241m=\u001B[39m _process_traceback_frames(e\u001B[38;5;241m.\u001B[39m__traceback__)\n\u001B[0;32m    120\u001B[0m     \u001B[38;5;66;03m# To get the full stack trace, call:\u001B[39;00m\n\u001B[0;32m    121\u001B[0m     \u001B[38;5;66;03m# `keras.config.disable_traceback_filtering()`\u001B[39;00m\n\u001B[1;32m--> 122\u001B[0m     \u001B[38;5;28;01mraise\u001B[39;00m e\u001B[38;5;241m.\u001B[39mwith_traceback(filtered_tb) \u001B[38;5;28;01mfrom\u001B[39;00m \u001B[38;5;28;01mNone\u001B[39;00m\n\u001B[0;32m    123\u001B[0m \u001B[38;5;28;01mfinally\u001B[39;00m:\n\u001B[0;32m    124\u001B[0m     \u001B[38;5;28;01mdel\u001B[39;00m filtered_tb\n",
      "File \u001B[1;32m~\\PycharmProjects\\Project01_ML\\.venv\\Lib\\site-packages\\tensorflow\\python\\framework\\constant_op.py:108\u001B[0m, in \u001B[0;36mconvert_to_eager_tensor\u001B[1;34m(value, ctx, dtype)\u001B[0m\n\u001B[0;32m    106\u001B[0m     dtype \u001B[38;5;241m=\u001B[39m dtypes\u001B[38;5;241m.\u001B[39mas_dtype(dtype)\u001B[38;5;241m.\u001B[39mas_datatype_enum\n\u001B[0;32m    107\u001B[0m ctx\u001B[38;5;241m.\u001B[39mensure_initialized()\n\u001B[1;32m--> 108\u001B[0m \u001B[38;5;28;01mreturn\u001B[39;00m \u001B[43mops\u001B[49m\u001B[38;5;241;43m.\u001B[39;49m\u001B[43mEagerTensor\u001B[49m\u001B[43m(\u001B[49m\u001B[43mvalue\u001B[49m\u001B[43m,\u001B[49m\u001B[43m \u001B[49m\u001B[43mctx\u001B[49m\u001B[38;5;241;43m.\u001B[39;49m\u001B[43mdevice_name\u001B[49m\u001B[43m,\u001B[49m\u001B[43m \u001B[49m\u001B[43mdtype\u001B[49m\u001B[43m)\u001B[49m\n",
      "\u001B[1;31mValueError\u001B[0m: Failed to convert a NumPy array to a Tensor (Unsupported object type numpy.ndarray)."
     ]
    }
   ],
   "execution_count": 187
  }
 ],
 "metadata": {
  "kernelspec": {
   "display_name": "Python 3",
   "language": "python",
   "name": "python3"
  },
  "language_info": {
   "codemirror_mode": {
    "name": "ipython",
    "version": 2
   },
   "file_extension": ".py",
   "mimetype": "text/x-python",
   "name": "python",
   "nbconvert_exporter": "python",
   "pygments_lexer": "ipython2",
   "version": "2.7.6"
  }
 },
 "nbformat": 4,
 "nbformat_minor": 5
}
