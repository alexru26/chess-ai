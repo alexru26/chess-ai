{
 "cells": [
  {
   "metadata": {},
   "cell_type": "markdown",
   "source": [
    "# 1 Preliminaries\n",
    "## 1.1 Import\n",
    "Import required libraries."
   ],
   "id": "352ab3891add059b"
  },
  {
   "metadata": {
    "ExecuteTime": {
     "end_time": "2024-09-04T17:41:31.472260Z",
     "start_time": "2024-09-04T17:41:31.469187Z"
    }
   },
   "cell_type": "code",
   "source": [
    "import os\n",
    "import numpy as np\n",
    "from keras import callbacks, models, layers\n",
    "import pandas as pd\n",
    "import chess.pgn"
   ],
   "id": "8958b478d1ef1848",
   "outputs": [],
   "execution_count": 33
  },
  {
   "metadata": {},
   "cell_type": "markdown",
   "source": [
    "## 1.2 Load Data\n",
    "Load the pgn file and create DataFrame. It should have three columns:\n",
    "- Color\n",
    "- Board\n",
    "- Move"
   ],
   "id": "ab9c3b1330f8796"
  },
  {
   "metadata": {
    "ExecuteTime": {
     "end_time": "2024-09-04T17:41:31.638767Z",
     "start_time": "2024-09-04T17:41:31.483195Z"
    }
   },
   "cell_type": "code",
   "source": [
    "def read_data(file):\n",
    "    res = []\n",
    "    while True:\n",
    "        try:\n",
    "            game = chess.pgn.read_game(file)\n",
    "            \n",
    "            if game is None:\n",
    "                break\n",
    "                \n",
    "            board = game.board()\n",
    "            \n",
    "            color = \"white\" if game.headers[\"White\"] == file.name[:-4] else \"black\"\n",
    "            \n",
    "            for move in game.mainline_moves():\n",
    "                if(color == \"white\" and board.turn == chess.WHITE) or (color == \"black\" and board.turn == chess.BLACK):\n",
    "                    res.append({\n",
    "                        \"board\": board.fen(),\n",
    "                        \"color\": color,\n",
    "                        \"move\": move,\n",
    "                    })\n",
    "                board.push(move)\n",
    "        except Exception as e:\n",
    "            print(e)\n",
    "    return res\n",
    "\n",
    "data = []\n",
    "# directory = 'data'\n",
    "# for filename in os.listdir(directory):\n",
    "#     f = os.path.join(directory, filename)\n",
    "#     \n",
    "#     if os.path.isfile(f) and filename[-3:] == \"pgn\":\n",
    "#         with open(f, 'r') as pgn:\n",
    "#             print(f)\n",
    "#             data.append(read_data(pgn))\n",
    "      \n",
    "with open('data/damnsaltythatsport.pgn', 'r') as pgn:\n",
    "    data.extend(read_data(pgn))\n",
    "            \n",
    "df = pd.DataFrame(data)\n",
    "df"
   ],
   "id": "eae9a361a014173d",
   "outputs": [
    {
     "data": {
      "text/plain": [
       "                                                  board  color  move\n",
       "0     rnbqkbnr/pppppppp/8/8/3P4/8/PPP1PPPP/RNBQKBNR ...  black  g8f6\n",
       "1     rnbqkb1r/pppppppp/5n2/8/2PP4/8/PP2PPPP/RNBQKBN...  black  e7e6\n",
       "2     rnbqkb1r/pppp1ppp/4pn2/8/2PP4/2N5/PP2PPPP/R1BQ...  black  f8e7\n",
       "3     rnbqk2r/ppppbppp/4pn2/8/2PPP3/2N5/PP3PPP/R1BQK...  black  e8g8\n",
       "4     rnbq1rk1/ppppbppp/4pn2/8/2PPP3/2NB4/PP3PPP/R1B...  black  d7d6\n",
       "...                                                 ...    ...   ...\n",
       "2669  r3k2r/pp1q1p1p/2p5/Q4p2/3b1P1P/2Np2P1/PPnB2BK/...  black  e8g8\n",
       "2670  r4rk1/pp1q1p1p/2p5/Q4p2/3b1P1P/2Np2PB/PPnB3K/5...  black  b7b5\n",
       "2671  r4rk1/p2q1p1p/2p5/Qp3p2/3b1P1P/2Np1RPB/PPnB3K/...  black  f8e8\n",
       "2672  r3r1k1/p2q1p1p/2p5/Qp3p2/3b1P1P/2NR2PB/PPnB3K/...  black  d4g1\n",
       "2673  r3r1k1/p2q1p1p/2p5/Qp3p2/5P1P/2NR2PB/PPnB4/6bK...  black  d7d3\n",
       "\n",
       "[2674 rows x 3 columns]"
      ],
      "text/html": [
       "<div>\n",
       "<style scoped>\n",
       "    .dataframe tbody tr th:only-of-type {\n",
       "        vertical-align: middle;\n",
       "    }\n",
       "\n",
       "    .dataframe tbody tr th {\n",
       "        vertical-align: top;\n",
       "    }\n",
       "\n",
       "    .dataframe thead th {\n",
       "        text-align: right;\n",
       "    }\n",
       "</style>\n",
       "<table border=\"1\" class=\"dataframe\">\n",
       "  <thead>\n",
       "    <tr style=\"text-align: right;\">\n",
       "      <th></th>\n",
       "      <th>board</th>\n",
       "      <th>color</th>\n",
       "      <th>move</th>\n",
       "    </tr>\n",
       "  </thead>\n",
       "  <tbody>\n",
       "    <tr>\n",
       "      <th>0</th>\n",
       "      <td>rnbqkbnr/pppppppp/8/8/3P4/8/PPP1PPPP/RNBQKBNR ...</td>\n",
       "      <td>black</td>\n",
       "      <td>g8f6</td>\n",
       "    </tr>\n",
       "    <tr>\n",
       "      <th>1</th>\n",
       "      <td>rnbqkb1r/pppppppp/5n2/8/2PP4/8/PP2PPPP/RNBQKBN...</td>\n",
       "      <td>black</td>\n",
       "      <td>e7e6</td>\n",
       "    </tr>\n",
       "    <tr>\n",
       "      <th>2</th>\n",
       "      <td>rnbqkb1r/pppp1ppp/4pn2/8/2PP4/2N5/PP2PPPP/R1BQ...</td>\n",
       "      <td>black</td>\n",
       "      <td>f8e7</td>\n",
       "    </tr>\n",
       "    <tr>\n",
       "      <th>3</th>\n",
       "      <td>rnbqk2r/ppppbppp/4pn2/8/2PPP3/2N5/PP3PPP/R1BQK...</td>\n",
       "      <td>black</td>\n",
       "      <td>e8g8</td>\n",
       "    </tr>\n",
       "    <tr>\n",
       "      <th>4</th>\n",
       "      <td>rnbq1rk1/ppppbppp/4pn2/8/2PPP3/2NB4/PP3PPP/R1B...</td>\n",
       "      <td>black</td>\n",
       "      <td>d7d6</td>\n",
       "    </tr>\n",
       "    <tr>\n",
       "      <th>...</th>\n",
       "      <td>...</td>\n",
       "      <td>...</td>\n",
       "      <td>...</td>\n",
       "    </tr>\n",
       "    <tr>\n",
       "      <th>2669</th>\n",
       "      <td>r3k2r/pp1q1p1p/2p5/Q4p2/3b1P1P/2Np2P1/PPnB2BK/...</td>\n",
       "      <td>black</td>\n",
       "      <td>e8g8</td>\n",
       "    </tr>\n",
       "    <tr>\n",
       "      <th>2670</th>\n",
       "      <td>r4rk1/pp1q1p1p/2p5/Q4p2/3b1P1P/2Np2PB/PPnB3K/5...</td>\n",
       "      <td>black</td>\n",
       "      <td>b7b5</td>\n",
       "    </tr>\n",
       "    <tr>\n",
       "      <th>2671</th>\n",
       "      <td>r4rk1/p2q1p1p/2p5/Qp3p2/3b1P1P/2Np1RPB/PPnB3K/...</td>\n",
       "      <td>black</td>\n",
       "      <td>f8e8</td>\n",
       "    </tr>\n",
       "    <tr>\n",
       "      <th>2672</th>\n",
       "      <td>r3r1k1/p2q1p1p/2p5/Qp3p2/3b1P1P/2NR2PB/PPnB3K/...</td>\n",
       "      <td>black</td>\n",
       "      <td>d4g1</td>\n",
       "    </tr>\n",
       "    <tr>\n",
       "      <th>2673</th>\n",
       "      <td>r3r1k1/p2q1p1p/2p5/Qp3p2/5P1P/2NR2PB/PPnB4/6bK...</td>\n",
       "      <td>black</td>\n",
       "      <td>d7d3</td>\n",
       "    </tr>\n",
       "  </tbody>\n",
       "</table>\n",
       "<p>2674 rows × 3 columns</p>\n",
       "</div>"
      ]
     },
     "execution_count": 34,
     "metadata": {},
     "output_type": "execute_result"
    }
   ],
   "execution_count": 34
  },
  {
   "metadata": {},
   "cell_type": "markdown",
   "source": [
    "## 1.3 Visualize Data\n",
    "Visualize the board to make sure we're chilling.\n"
   ],
   "id": "34f0388262701306"
  },
  {
   "metadata": {
    "ExecuteTime": {
     "end_time": "2024-09-04T17:41:31.668643Z",
     "start_time": "2024-09-04T17:41:31.664807Z"
    }
   },
   "cell_type": "code",
   "source": [
    "def fen_to_board(fen):\n",
    "    \"\"\"Function written by ChatGPT\"\"\"\n",
    "    piece_to_char = {\n",
    "        'p': 'p', 'r': 'r', 'n': 'n', 'b': 'b', 'q': 'q', 'k': 'k',\n",
    "        'P': 'P', 'R': 'R', 'N': 'N', 'B': 'B', 'Q': 'Q', 'K': 'K',\n",
    "        '1': '.', '2': '.', '3': '.', '4': '.', '5': '.', '6': '.', '7': '.', '8': '.'\n",
    "    }\n",
    "    board = []\n",
    "    for row in fen.split()[0].split('/'):\n",
    "        board_row = []\n",
    "        for char in row:\n",
    "            if char.isdigit():\n",
    "                board_row.extend(['.'] * int(char))\n",
    "            else:\n",
    "                board_row.append(piece_to_char[char])\n",
    "        board.append(board_row)\n",
    "    return np.array(board)\n",
    "\n",
    "for i in range(5):\n",
    "    print(fen_to_board(df['board'][i]))\n",
    "    print(df['move'][i])\n",
    "    print('\\n')"
   ],
   "id": "879efabe60c37a78",
   "outputs": [
    {
     "name": "stdout",
     "output_type": "stream",
     "text": [
      "[['r' 'n' 'b' 'q' 'k' 'b' 'n' 'r']\n",
      " ['p' 'p' 'p' 'p' 'p' 'p' 'p' 'p']\n",
      " ['.' '.' '.' '.' '.' '.' '.' '.']\n",
      " ['.' '.' '.' '.' '.' '.' '.' '.']\n",
      " ['.' '.' '.' 'P' '.' '.' '.' '.']\n",
      " ['.' '.' '.' '.' '.' '.' '.' '.']\n",
      " ['P' 'P' 'P' '.' 'P' 'P' 'P' 'P']\n",
      " ['R' 'N' 'B' 'Q' 'K' 'B' 'N' 'R']]\n",
      "g8f6\n",
      "\n",
      "\n",
      "[['r' 'n' 'b' 'q' 'k' 'b' '.' 'r']\n",
      " ['p' 'p' 'p' 'p' 'p' 'p' 'p' 'p']\n",
      " ['.' '.' '.' '.' '.' 'n' '.' '.']\n",
      " ['.' '.' '.' '.' '.' '.' '.' '.']\n",
      " ['.' '.' 'P' 'P' '.' '.' '.' '.']\n",
      " ['.' '.' '.' '.' '.' '.' '.' '.']\n",
      " ['P' 'P' '.' '.' 'P' 'P' 'P' 'P']\n",
      " ['R' 'N' 'B' 'Q' 'K' 'B' 'N' 'R']]\n",
      "e7e6\n",
      "\n",
      "\n",
      "[['r' 'n' 'b' 'q' 'k' 'b' '.' 'r']\n",
      " ['p' 'p' 'p' 'p' '.' 'p' 'p' 'p']\n",
      " ['.' '.' '.' '.' 'p' 'n' '.' '.']\n",
      " ['.' '.' '.' '.' '.' '.' '.' '.']\n",
      " ['.' '.' 'P' 'P' '.' '.' '.' '.']\n",
      " ['.' '.' 'N' '.' '.' '.' '.' '.']\n",
      " ['P' 'P' '.' '.' 'P' 'P' 'P' 'P']\n",
      " ['R' '.' 'B' 'Q' 'K' 'B' 'N' 'R']]\n",
      "f8e7\n",
      "\n",
      "\n",
      "[['r' 'n' 'b' 'q' 'k' '.' '.' 'r']\n",
      " ['p' 'p' 'p' 'p' 'b' 'p' 'p' 'p']\n",
      " ['.' '.' '.' '.' 'p' 'n' '.' '.']\n",
      " ['.' '.' '.' '.' '.' '.' '.' '.']\n",
      " ['.' '.' 'P' 'P' 'P' '.' '.' '.']\n",
      " ['.' '.' 'N' '.' '.' '.' '.' '.']\n",
      " ['P' 'P' '.' '.' '.' 'P' 'P' 'P']\n",
      " ['R' '.' 'B' 'Q' 'K' 'B' 'N' 'R']]\n",
      "e8g8\n",
      "\n",
      "\n",
      "[['r' 'n' 'b' 'q' '.' 'r' 'k' '.']\n",
      " ['p' 'p' 'p' 'p' 'b' 'p' 'p' 'p']\n",
      " ['.' '.' '.' '.' 'p' 'n' '.' '.']\n",
      " ['.' '.' '.' '.' '.' '.' '.' '.']\n",
      " ['.' '.' 'P' 'P' 'P' '.' '.' '.']\n",
      " ['.' '.' 'N' 'B' '.' '.' '.' '.']\n",
      " ['P' 'P' '.' '.' '.' 'P' 'P' 'P']\n",
      " ['R' '.' 'B' 'Q' 'K' '.' 'N' 'R']]\n",
      "d7d6\n",
      "\n",
      "\n"
     ]
    }
   ],
   "execution_count": 35
  },
  {
   "metadata": {},
   "cell_type": "markdown",
   "source": [
    "## 1.4 Clean Data\n",
    "Clean data."
   ],
   "id": "e81f2687024e08f5"
  },
  {
   "metadata": {
    "ExecuteTime": {
     "end_time": "2024-09-04T17:41:31.742916Z",
     "start_time": "2024-09-04T17:41:31.740131Z"
    }
   },
   "cell_type": "code",
   "source": [
    "# df['color'] = df['color'].apply(lambda x: 1 if x == 'white' else 0)\n",
    "# df['move'] = df['move'].astype('category')\n",
    "df.dtypes"
   ],
   "id": "403f6b34dc266430",
   "outputs": [
    {
     "data": {
      "text/plain": [
       "board    object\n",
       "color    object\n",
       "move     object\n",
       "dtype: object"
      ]
     },
     "execution_count": 36,
     "metadata": {},
     "output_type": "execute_result"
    }
   ],
   "execution_count": 36
  },
  {
   "metadata": {},
   "cell_type": "markdown",
   "source": "## 1.5 Split Data",
   "id": "196587837e9f211b"
  },
  {
   "metadata": {
    "ExecuteTime": {
     "end_time": "2024-09-04T17:41:31.792969Z",
     "start_time": "2024-09-04T17:41:31.789306Z"
    }
   },
   "cell_type": "code",
   "source": [
    "df_train = df.sample(frac=0.8)\n",
    "df_valid = df.drop(df_train.index)\n",
    "\n",
    "X_train = df_train.drop('move', axis=1)\n",
    "X_valid = df_valid.drop('move', axis=1)\n",
    "y_train = df_train['move']\n",
    "y_valid = df_valid['move']"
   ],
   "id": "7e7dc49abffa9e69",
   "outputs": [],
   "execution_count": 37
  },
  {
   "metadata": {},
   "cell_type": "markdown",
   "source": [
    "# 2 Train Model\n",
    "## 2.1 Create Model"
   ],
   "id": "eb4c30a510d2ae9e"
  },
  {
   "metadata": {
    "ExecuteTime": {
     "end_time": "2024-09-04T17:45:28.117051Z",
     "start_time": "2024-09-04T17:45:28.111116Z"
    }
   },
   "cell_type": "code",
   "source": [
    "early_stopping = callbacks.EarlyStopping(\n",
    "    min_delta=0.001,  # minimium amount of change to count as an improvement\n",
    "    patience=20,  # how many epochs to wait before stopping\n",
    "    restore_best_weights=True,\n",
    ")\n",
    "\n",
    "model = models.Sequential([\n",
    "    \n",
    "])\n",
    "\n",
    "model.compile(\n",
    "    optimizer='adam',\n",
    "    loss='categorical_crossentropy',\n",
    ")"
   ],
   "id": "1f53f5026bc6276a",
   "outputs": [],
   "execution_count": 41
  },
  {
   "metadata": {},
   "cell_type": "markdown",
   "source": "## 2.2 Fit Model",
   "id": "21dfcca3154e4f15"
  },
  {
   "metadata": {
    "ExecuteTime": {
     "end_time": "2024-09-04T17:45:29.767488Z",
     "start_time": "2024-09-04T17:45:29.741077Z"
    }
   },
   "cell_type": "code",
   "source": [
    "history = model.fit(\n",
    "    X_train, y_train,\n",
    "    validation_data=(X_valid, y_valid),\n",
    "    batch_size=1,\n",
    "    epochs=500,\n",
    "    callbacks=[early_stopping],\n",
    "    verbose=0,\n",
    ")\n",
    "\n",
    "history_df = pd.DataFrame(history.history)\n",
    "history_df.loc[:, ['loss', 'val_loss']].plot()\n",
    "\n",
    "model.save('deeplearningmodel.h5')"
   ],
   "id": "efbe578dde724685",
   "outputs": [
    {
     "ename": "ValueError",
     "evalue": "Failed to convert a NumPy array to a Tensor (Unsupported object type Move).",
     "output_type": "error",
     "traceback": [
      "\u001B[0;31m---------------------------------------------------------------------------\u001B[0m",
      "\u001B[0;31mValueError\u001B[0m                                Traceback (most recent call last)",
      "Cell \u001B[0;32mIn[42], line 1\u001B[0m\n\u001B[0;32m----> 1\u001B[0m history \u001B[38;5;241m=\u001B[39m \u001B[43mmodel\u001B[49m\u001B[38;5;241;43m.\u001B[39;49m\u001B[43mfit\u001B[49m\u001B[43m(\u001B[49m\n\u001B[1;32m      2\u001B[0m \u001B[43m    \u001B[49m\u001B[43mX_train\u001B[49m\u001B[43m,\u001B[49m\u001B[43m \u001B[49m\u001B[43my_train\u001B[49m\u001B[43m,\u001B[49m\n\u001B[1;32m      3\u001B[0m \u001B[43m    \u001B[49m\u001B[43mvalidation_data\u001B[49m\u001B[38;5;241;43m=\u001B[39;49m\u001B[43m(\u001B[49m\u001B[43mX_valid\u001B[49m\u001B[43m,\u001B[49m\u001B[43m \u001B[49m\u001B[43my_valid\u001B[49m\u001B[43m)\u001B[49m\u001B[43m,\u001B[49m\n\u001B[1;32m      4\u001B[0m \u001B[43m    \u001B[49m\u001B[43mbatch_size\u001B[49m\u001B[38;5;241;43m=\u001B[39;49m\u001B[38;5;241;43m1\u001B[39;49m\u001B[43m,\u001B[49m\n\u001B[1;32m      5\u001B[0m \u001B[43m    \u001B[49m\u001B[43mepochs\u001B[49m\u001B[38;5;241;43m=\u001B[39;49m\u001B[38;5;241;43m500\u001B[39;49m\u001B[43m,\u001B[49m\n\u001B[1;32m      6\u001B[0m \u001B[43m    \u001B[49m\u001B[43mcallbacks\u001B[49m\u001B[38;5;241;43m=\u001B[39;49m\u001B[43m[\u001B[49m\u001B[43mearly_stopping\u001B[49m\u001B[43m]\u001B[49m\u001B[43m,\u001B[49m\n\u001B[1;32m      7\u001B[0m \u001B[43m    \u001B[49m\u001B[43mverbose\u001B[49m\u001B[38;5;241;43m=\u001B[39;49m\u001B[38;5;241;43m0\u001B[39;49m\u001B[43m,\u001B[49m\n\u001B[1;32m      8\u001B[0m \u001B[43m)\u001B[49m\n\u001B[1;32m     10\u001B[0m history_df \u001B[38;5;241m=\u001B[39m pd\u001B[38;5;241m.\u001B[39mDataFrame(history\u001B[38;5;241m.\u001B[39mhistory)\n\u001B[1;32m     11\u001B[0m history_df\u001B[38;5;241m.\u001B[39mloc[:, [\u001B[38;5;124m'\u001B[39m\u001B[38;5;124mloss\u001B[39m\u001B[38;5;124m'\u001B[39m, \u001B[38;5;124m'\u001B[39m\u001B[38;5;124mval_loss\u001B[39m\u001B[38;5;124m'\u001B[39m]]\u001B[38;5;241m.\u001B[39mplot()\n",
      "File \u001B[0;32m~/PycharmProjects/Project01_ML/.venv/lib/python3.12/site-packages/keras/src/utils/traceback_utils.py:122\u001B[0m, in \u001B[0;36mfilter_traceback.<locals>.error_handler\u001B[0;34m(*args, **kwargs)\u001B[0m\n\u001B[1;32m    119\u001B[0m     filtered_tb \u001B[38;5;241m=\u001B[39m _process_traceback_frames(e\u001B[38;5;241m.\u001B[39m__traceback__)\n\u001B[1;32m    120\u001B[0m     \u001B[38;5;66;03m# To get the full stack trace, call:\u001B[39;00m\n\u001B[1;32m    121\u001B[0m     \u001B[38;5;66;03m# `keras.config.disable_traceback_filtering()`\u001B[39;00m\n\u001B[0;32m--> 122\u001B[0m     \u001B[38;5;28;01mraise\u001B[39;00m e\u001B[38;5;241m.\u001B[39mwith_traceback(filtered_tb) \u001B[38;5;28;01mfrom\u001B[39;00m \u001B[38;5;28;01mNone\u001B[39;00m\n\u001B[1;32m    123\u001B[0m \u001B[38;5;28;01mfinally\u001B[39;00m:\n\u001B[1;32m    124\u001B[0m     \u001B[38;5;28;01mdel\u001B[39;00m filtered_tb\n",
      "File \u001B[0;32m~/PycharmProjects/Project01_ML/.venv/lib/python3.12/site-packages/tensorflow/python/framework/constant_op.py:108\u001B[0m, in \u001B[0;36mconvert_to_eager_tensor\u001B[0;34m(value, ctx, dtype)\u001B[0m\n\u001B[1;32m    106\u001B[0m     dtype \u001B[38;5;241m=\u001B[39m dtypes\u001B[38;5;241m.\u001B[39mas_dtype(dtype)\u001B[38;5;241m.\u001B[39mas_datatype_enum\n\u001B[1;32m    107\u001B[0m ctx\u001B[38;5;241m.\u001B[39mensure_initialized()\n\u001B[0;32m--> 108\u001B[0m \u001B[38;5;28;01mreturn\u001B[39;00m \u001B[43mops\u001B[49m\u001B[38;5;241;43m.\u001B[39;49m\u001B[43mEagerTensor\u001B[49m\u001B[43m(\u001B[49m\u001B[43mvalue\u001B[49m\u001B[43m,\u001B[49m\u001B[43m \u001B[49m\u001B[43mctx\u001B[49m\u001B[38;5;241;43m.\u001B[39;49m\u001B[43mdevice_name\u001B[49m\u001B[43m,\u001B[49m\u001B[43m \u001B[49m\u001B[43mdtype\u001B[49m\u001B[43m)\u001B[49m\n",
      "\u001B[0;31mValueError\u001B[0m: Failed to convert a NumPy array to a Tensor (Unsupported object type Move)."
     ]
    }
   ],
   "execution_count": 42
  }
 ],
 "metadata": {
  "kernelspec": {
   "display_name": "Python 3",
   "language": "python",
   "name": "python3"
  },
  "language_info": {
   "codemirror_mode": {
    "name": "ipython",
    "version": 2
   },
   "file_extension": ".py",
   "mimetype": "text/x-python",
   "name": "python",
   "nbconvert_exporter": "python",
   "pygments_lexer": "ipython2",
   "version": "2.7.6"
  }
 },
 "nbformat": 4,
 "nbformat_minor": 5
}
